{
 "cells": [
  {
   "cell_type": "markdown",
   "metadata": {},
   "source": [
    "Hello World!\n",
    "This notebook describes the decision tree based Machine Learning model I have created\n",
    "to segment the users of Habits app."
   ]
  },
  {
   "cell_type": "markdown",
   "metadata": {},
   "source": [
    "# Looking around the data set"
   ]
  },
  {
   "cell_type": "code",
   "execution_count": 253,
   "metadata": {
    "collapsed": false,
    "scrolled": true
   },
   "outputs": [
    {
     "name": "stdout",
     "output_type": "stream",
     "text": [
      "Once deleted, variables cannot be recovered. Proceed (y/[n])? y\n"
     ]
    }
   ],
   "source": [
    "%reset"
   ]
  },
  {
   "cell_type": "code",
   "execution_count": 254,
   "metadata": {
    "collapsed": true
   },
   "outputs": [],
   "source": [
    "# Import the required modules\n",
    "import pandas as pd\n",
    "import numpy as np\n",
    "#import scipy as sp"
   ]
  },
  {
   "cell_type": "code",
   "execution_count": 255,
   "metadata": {
    "collapsed": false
   },
   "outputs": [],
   "source": [
    "# simple function to read in the user data file.\n",
    "# the argument parse_dates takes in a list of colums, which are to be parsed as date format\n",
    "user_data_raw = pd.read_csv(\"janacare_user-engagement_Aug2014-Apr2016.csv\", parse_dates = [-3,-2,-1])"
   ]
  },
  {
   "cell_type": "code",
   "execution_count": 256,
   "metadata": {
    "collapsed": false
   },
   "outputs": [
    {
     "data": {
      "text/plain": [
       "(372, 19)"
      ]
     },
     "execution_count": 256,
     "metadata": {},
     "output_type": "execute_result"
    }
   ],
   "source": [
    "# data metrics\n",
    "user_data_raw.shape # Rows , colums"
   ]
  },
  {
   "cell_type": "code",
   "execution_count": 257,
   "metadata": {
    "collapsed": false
   },
   "outputs": [
    {
     "data": {
      "text/plain": [
       "user_id                                                        float64\n",
       "num_modules_consumed                                           float64\n",
       "num_glucose_tracked                                            float64\n",
       "num_of_days_steps_tracked                                      float64\n",
       "num_of_days_food_tracked                                       float64\n",
       "num_of_days_weight_tracked                                     float64\n",
       "insulin_a1c_count                                              float64\n",
       "cholesterol_count                                              float64\n",
       "hemoglobin_count                                               float64\n",
       "watching_videos (binary - 1 for yes, blank/0 for no)           float64\n",
       "weight                                                         float64\n",
       "height                                                           int64\n",
       "bmi                                                              int64\n",
       "age                                                              int64\n",
       "gender                                                          object\n",
       "has_diabetes                                                   float64\n",
       "first_login                                             datetime64[ns]\n",
       "last_activity                                           datetime64[ns]\n",
       "age_on_platform                                                 object\n",
       "dtype: object"
      ]
     },
     "execution_count": 257,
     "metadata": {},
     "output_type": "execute_result"
    }
   ],
   "source": [
    "# data metrics\n",
    "user_data_raw.dtypes # data type of colums"
   ]
  },
  {
   "cell_type": "markdown",
   "metadata": {},
   "source": [
    "The column name *watching_videos (binary - 1 for yes, blank/0 for no)* is too long and has special chars, lets change it to *watching_videos*"
   ]
  },
  {
   "cell_type": "code",
   "execution_count": 258,
   "metadata": {
    "collapsed": true
   },
   "outputs": [],
   "source": [
    "user_data_to_clean = user_data_raw.rename(columns = {'watching_videos (binary - 1 for yes, blank/0 for no)':'watching_videos'})"
   ]
  },
  {
   "cell_type": "code",
   "execution_count": 259,
   "metadata": {
    "collapsed": false
   },
   "outputs": [
    {
     "data": {
      "text/html": [
       "<div>\n",
       "<table border=\"1\" class=\"dataframe\">\n",
       "  <thead>\n",
       "    <tr style=\"text-align: right;\">\n",
       "      <th></th>\n",
       "      <th>user_id</th>\n",
       "      <th>num_modules_consumed</th>\n",
       "      <th>num_glucose_tracked</th>\n",
       "      <th>num_of_days_steps_tracked</th>\n",
       "      <th>num_of_days_food_tracked</th>\n",
       "      <th>num_of_days_weight_tracked</th>\n",
       "      <th>insulin_a1c_count</th>\n",
       "      <th>cholesterol_count</th>\n",
       "      <th>hemoglobin_count</th>\n",
       "      <th>watching_videos</th>\n",
       "      <th>weight</th>\n",
       "      <th>height</th>\n",
       "      <th>bmi</th>\n",
       "      <th>age</th>\n",
       "      <th>has_diabetes</th>\n",
       "    </tr>\n",
       "  </thead>\n",
       "  <tbody>\n",
       "    <tr>\n",
       "      <th>count</th>\n",
       "      <td>371.00000</td>\n",
       "      <td>69.000000</td>\n",
       "      <td>91.000000</td>\n",
       "      <td>120.000000</td>\n",
       "      <td>78.000000</td>\n",
       "      <td>223.000000</td>\n",
       "      <td>47.000000</td>\n",
       "      <td>15.000000</td>\n",
       "      <td>0.0</td>\n",
       "      <td>97.0</td>\n",
       "      <td>372.000000</td>\n",
       "      <td>372.000000</td>\n",
       "      <td>372.000000</td>\n",
       "      <td>372.000000</td>\n",
       "      <td>39.000000</td>\n",
       "    </tr>\n",
       "    <tr>\n",
       "      <th>mean</th>\n",
       "      <td>13850.74124</td>\n",
       "      <td>12.072464</td>\n",
       "      <td>17.769231</td>\n",
       "      <td>53.433333</td>\n",
       "      <td>29.576923</td>\n",
       "      <td>3.210762</td>\n",
       "      <td>5.170213</td>\n",
       "      <td>4.733333</td>\n",
       "      <td>NaN</td>\n",
       "      <td>1.0</td>\n",
       "      <td>72.074597</td>\n",
       "      <td>169.306452</td>\n",
       "      <td>25.325269</td>\n",
       "      <td>49.223118</td>\n",
       "      <td>0.512821</td>\n",
       "    </tr>\n",
       "    <tr>\n",
       "      <th>std</th>\n",
       "      <td>12773.29800</td>\n",
       "      <td>13.693406</td>\n",
       "      <td>38.881894</td>\n",
       "      <td>80.690792</td>\n",
       "      <td>47.019344</td>\n",
       "      <td>4.490778</td>\n",
       "      <td>12.694263</td>\n",
       "      <td>1.709915</td>\n",
       "      <td>NaN</td>\n",
       "      <td>0.0</td>\n",
       "      <td>14.744092</td>\n",
       "      <td>16.112564</td>\n",
       "      <td>5.194763</td>\n",
       "      <td>13.487788</td>\n",
       "      <td>0.506370</td>\n",
       "    </tr>\n",
       "    <tr>\n",
       "      <th>min</th>\n",
       "      <td>4288.00000</td>\n",
       "      <td>1.000000</td>\n",
       "      <td>1.000000</td>\n",
       "      <td>1.000000</td>\n",
       "      <td>1.000000</td>\n",
       "      <td>1.000000</td>\n",
       "      <td>1.000000</td>\n",
       "      <td>3.000000</td>\n",
       "      <td>NaN</td>\n",
       "      <td>1.0</td>\n",
       "      <td>40.000000</td>\n",
       "      <td>120.000000</td>\n",
       "      <td>5.000000</td>\n",
       "      <td>11.000000</td>\n",
       "      <td>0.000000</td>\n",
       "    </tr>\n",
       "    <tr>\n",
       "      <th>25%</th>\n",
       "      <td>6075.50000</td>\n",
       "      <td>3.000000</td>\n",
       "      <td>2.000000</td>\n",
       "      <td>6.750000</td>\n",
       "      <td>2.000000</td>\n",
       "      <td>1.000000</td>\n",
       "      <td>1.000000</td>\n",
       "      <td>4.000000</td>\n",
       "      <td>NaN</td>\n",
       "      <td>1.0</td>\n",
       "      <td>62.000000</td>\n",
       "      <td>162.000000</td>\n",
       "      <td>22.000000</td>\n",
       "      <td>39.000000</td>\n",
       "      <td>0.000000</td>\n",
       "    </tr>\n",
       "    <tr>\n",
       "      <th>50%</th>\n",
       "      <td>7462.00000</td>\n",
       "      <td>8.000000</td>\n",
       "      <td>5.000000</td>\n",
       "      <td>19.500000</td>\n",
       "      <td>10.500000</td>\n",
       "      <td>2.000000</td>\n",
       "      <td>2.000000</td>\n",
       "      <td>4.000000</td>\n",
       "      <td>NaN</td>\n",
       "      <td>1.0</td>\n",
       "      <td>70.000000</td>\n",
       "      <td>167.000000</td>\n",
       "      <td>25.000000</td>\n",
       "      <td>49.500000</td>\n",
       "      <td>1.000000</td>\n",
       "    </tr>\n",
       "    <tr>\n",
       "      <th>75%</th>\n",
       "      <td>15258.00000</td>\n",
       "      <td>15.000000</td>\n",
       "      <td>12.500000</td>\n",
       "      <td>65.000000</td>\n",
       "      <td>31.500000</td>\n",
       "      <td>3.000000</td>\n",
       "      <td>3.000000</td>\n",
       "      <td>5.000000</td>\n",
       "      <td>NaN</td>\n",
       "      <td>1.0</td>\n",
       "      <td>80.000000</td>\n",
       "      <td>172.000000</td>\n",
       "      <td>27.000000</td>\n",
       "      <td>60.000000</td>\n",
       "      <td>1.000000</td>\n",
       "    </tr>\n",
       "    <tr>\n",
       "      <th>max</th>\n",
       "      <td>49766.00000</td>\n",
       "      <td>78.000000</td>\n",
       "      <td>260.000000</td>\n",
       "      <td>469.000000</td>\n",
       "      <td>229.000000</td>\n",
       "      <td>40.000000</td>\n",
       "      <td>78.000000</td>\n",
       "      <td>10.000000</td>\n",
       "      <td>NaN</td>\n",
       "      <td>1.0</td>\n",
       "      <td>165.000000</td>\n",
       "      <td>349.000000</td>\n",
       "      <td>56.000000</td>\n",
       "      <td>77.000000</td>\n",
       "      <td>1.000000</td>\n",
       "    </tr>\n",
       "  </tbody>\n",
       "</table>\n",
       "</div>"
      ],
      "text/plain": [
       "           user_id  num_modules_consumed  num_glucose_tracked  \\\n",
       "count    371.00000             69.000000            91.000000   \n",
       "mean   13850.74124             12.072464            17.769231   \n",
       "std    12773.29800             13.693406            38.881894   \n",
       "min     4288.00000              1.000000             1.000000   \n",
       "25%     6075.50000              3.000000             2.000000   \n",
       "50%     7462.00000              8.000000             5.000000   \n",
       "75%    15258.00000             15.000000            12.500000   \n",
       "max    49766.00000             78.000000           260.000000   \n",
       "\n",
       "       num_of_days_steps_tracked  num_of_days_food_tracked  \\\n",
       "count                 120.000000                 78.000000   \n",
       "mean                   53.433333                 29.576923   \n",
       "std                    80.690792                 47.019344   \n",
       "min                     1.000000                  1.000000   \n",
       "25%                     6.750000                  2.000000   \n",
       "50%                    19.500000                 10.500000   \n",
       "75%                    65.000000                 31.500000   \n",
       "max                   469.000000                229.000000   \n",
       "\n",
       "       num_of_days_weight_tracked  insulin_a1c_count  cholesterol_count  \\\n",
       "count                  223.000000          47.000000          15.000000   \n",
       "mean                     3.210762           5.170213           4.733333   \n",
       "std                      4.490778          12.694263           1.709915   \n",
       "min                      1.000000           1.000000           3.000000   \n",
       "25%                      1.000000           1.000000           4.000000   \n",
       "50%                      2.000000           2.000000           4.000000   \n",
       "75%                      3.000000           3.000000           5.000000   \n",
       "max                     40.000000          78.000000          10.000000   \n",
       "\n",
       "       hemoglobin_count  watching_videos      weight      height         bmi  \\\n",
       "count               0.0             97.0  372.000000  372.000000  372.000000   \n",
       "mean                NaN              1.0   72.074597  169.306452   25.325269   \n",
       "std                 NaN              0.0   14.744092   16.112564    5.194763   \n",
       "min                 NaN              1.0   40.000000  120.000000    5.000000   \n",
       "25%                 NaN              1.0   62.000000  162.000000   22.000000   \n",
       "50%                 NaN              1.0   70.000000  167.000000   25.000000   \n",
       "75%                 NaN              1.0   80.000000  172.000000   27.000000   \n",
       "max                 NaN              1.0  165.000000  349.000000   56.000000   \n",
       "\n",
       "              age  has_diabetes  \n",
       "count  372.000000     39.000000  \n",
       "mean    49.223118      0.512821  \n",
       "std     13.487788      0.506370  \n",
       "min     11.000000      0.000000  \n",
       "25%     39.000000      0.000000  \n",
       "50%     49.500000      1.000000  \n",
       "75%     60.000000      1.000000  \n",
       "max     77.000000      1.000000  "
      ]
     },
     "execution_count": 259,
     "metadata": {},
     "output_type": "execute_result"
    }
   ],
   "source": [
    "# Some basic statistical information on the data\n",
    "user_data_to_clean.describe()"
   ]
  },
  {
   "cell_type": "markdown",
   "metadata": {},
   "source": [
    "# Data Clean up"
   ]
  },
  {
   "cell_type": "markdown",
   "metadata": {},
   "source": [
    "In the last section of looking around, I saw that a lot of rows do not have any values or have garbage values(see first row of the table above).\n",
    "This can cause errors when computing anything using the values in these rows, hence a clean up is required."
   ]
  },
  {
   "cell_type": "markdown",
   "metadata": {},
   "source": [
    "We will clean up only those columns, that are being used for features.\n",
    "\n",
    "* **num_modules_consumed**\n",
    "* **num_glucose_tracked**\n",
    "* **num_of_days_food_tracked**\n",
    "* **watching_videos**\n",
    "\n",
    "The next two colums will not be cleaned, as they contain time data which in my opinion should not be imputed\n",
    "* **first_login**\n",
    "* **last_activity**"
   ]
  },
  {
   "cell_type": "code",
   "execution_count": 260,
   "metadata": {
    "collapsed": false,
    "scrolled": true
   },
   "outputs": [
    {
     "name": "stdout",
     "output_type": "stream",
     "text": [
      "<class 'pandas.core.frame.DataFrame'>\n",
      "RangeIndex: 372 entries, 0 to 371\n",
      "Data columns (total 19 columns):\n",
      "user_id                       371 non-null float64\n",
      "num_modules_consumed          69 non-null float64\n",
      "num_glucose_tracked           91 non-null float64\n",
      "num_of_days_steps_tracked     120 non-null float64\n",
      "num_of_days_food_tracked      78 non-null float64\n",
      "num_of_days_weight_tracked    223 non-null float64\n",
      "insulin_a1c_count             47 non-null float64\n",
      "cholesterol_count             15 non-null float64\n",
      "hemoglobin_count              0 non-null float64\n",
      "watching_videos               97 non-null float64\n",
      "weight                        372 non-null float64\n",
      "height                        372 non-null int64\n",
      "bmi                           372 non-null int64\n",
      "age                           372 non-null int64\n",
      "gender                        372 non-null object\n",
      "has_diabetes                  39 non-null float64\n",
      "first_login                   372 non-null datetime64[ns]\n",
      "last_activity                 302 non-null datetime64[ns]\n",
      "age_on_platform               372 non-null object\n",
      "dtypes: datetime64[ns](2), float64(12), int64(3), object(2)\n",
      "memory usage: 55.3+ KB\n"
     ]
    }
   ],
   "source": [
    "# Lets check the health of the data set\n",
    "user_data_to_clean.info()"
   ]
  },
  {
   "cell_type": "markdown",
   "metadata": {},
   "source": [
    "As is visible from the last column (*age_on_platform*) data type, Pandas is not recognising it as date type format. \n",
    "This will make things difficult, so I delete this particular column and add a new one.\n",
    "Since the data in *age_on_platform* can be recreated by doing *age_on_platform* = *last_activity* - *first_login* "
   ]
  },
  {
   "cell_type": "code",
   "execution_count": 261,
   "metadata": {
    "collapsed": true
   },
   "outputs": [],
   "source": [
    "# Lets first delete the last column \n",
    "user_data_to_clean_del_last_col = user_data_to_clean.drop(\"age_on_platform\", 1)"
   ]
  },
  {
   "cell_type": "code",
   "execution_count": 262,
   "metadata": {
    "collapsed": false
   },
   "outputs": [
    {
     "data": {
      "text/plain": [
       "(372, 18)"
      ]
     },
     "execution_count": 262,
     "metadata": {},
     "output_type": "execute_result"
    }
   ],
   "source": [
    "# Check if colums has been deleted. Number of column changed from 19 to 18\n",
    "user_data_to_clean_del_last_col.shape"
   ]
  },
  {
   "cell_type": "code",
   "execution_count": 263,
   "metadata": {
    "collapsed": false
   },
   "outputs": [],
   "source": [
    "# Copy data frame 'user_data_del_last_col' into a new one\n",
    "user_data_to_clean = user_data_to_clean_del_last_col"
   ]
  },
  {
   "cell_type": "markdown",
   "metadata": {},
   "source": [
    "But on eyeballing I noticed some, cells of column *first_login* have greater value than corresponding cell of *last_activity*. These cells need to be swapped, since its not possible to have *first_login* > *last_activity*"
   ]
  },
  {
   "cell_type": "code",
   "execution_count": 264,
   "metadata": {
    "collapsed": false
   },
   "outputs": [],
   "source": [
    "# Run a loop through the data frame and check each row for this anamoly, if found swap\n",
    "for index, row in user_data_to_clean.iterrows():\n",
    "    if row.first_login > row.last_activity:\n",
    "        temp_date_var = row.first_login\n",
    "        user_data_to_clean.set_value(index, 'first_login', row.last_activity)\n",
    "        user_data_to_clean.set_value(index, 'last_activity', temp_date_var)\n",
    "        #print \"\\tSw\\t\" + \"first\\t\" + row.first_login.isoformat() + \"\\tlast\\t\" + row.last_activity.isoformat()\n",
    "    \n",
    "    "
   ]
  },
  {
   "cell_type": "code",
   "execution_count": 265,
   "metadata": {
    "collapsed": false
   },
   "outputs": [],
   "source": [
    "# Create new column 'age_on_platform' which has the corresponding value in date type format\n",
    "user_data_to_clean[\"age_on_platform\"] = user_data_to_clean[\"last_activity\"] - user_data_to_clean[\"first_login\"]"
   ]
  },
  {
   "cell_type": "code",
   "execution_count": 266,
   "metadata": {
    "collapsed": false
   },
   "outputs": [
    {
     "data": {
      "text/plain": [
       "0   151 days\n",
       "1   129 days\n",
       "2   211 days\n",
       "3   235 days\n",
       "4     3 days\n",
       "Name: age_on_platform, dtype: timedelta64[ns]"
      ]
     },
     "execution_count": 266,
     "metadata": {},
     "output_type": "execute_result"
    }
   ],
   "source": [
    "# Check the result in first few rows\n",
    "user_data_to_clean[\"age_on_platform\"].head(5)"
   ]
  },
  {
   "cell_type": "code",
   "execution_count": 267,
   "metadata": {
    "collapsed": false
   },
   "outputs": [
    {
     "name": "stdout",
     "output_type": "stream",
     "text": [
      "<class 'pandas.core.frame.DataFrame'>\n",
      "RangeIndex: 372 entries, 0 to 371\n",
      "Data columns (total 19 columns):\n",
      "user_id                       371 non-null float64\n",
      "num_modules_consumed          69 non-null float64\n",
      "num_glucose_tracked           91 non-null float64\n",
      "num_of_days_steps_tracked     120 non-null float64\n",
      "num_of_days_food_tracked      78 non-null float64\n",
      "num_of_days_weight_tracked    223 non-null float64\n",
      "insulin_a1c_count             47 non-null float64\n",
      "cholesterol_count             15 non-null float64\n",
      "hemoglobin_count              0 non-null float64\n",
      "watching_videos               97 non-null float64\n",
      "weight                        372 non-null float64\n",
      "height                        372 non-null int64\n",
      "bmi                           372 non-null int64\n",
      "age                           372 non-null int64\n",
      "gender                        372 non-null object\n",
      "has_diabetes                  39 non-null float64\n",
      "first_login                   372 non-null datetime64[ns]\n",
      "last_activity                 302 non-null datetime64[ns]\n",
      "age_on_platform               302 non-null timedelta64[ns]\n",
      "dtypes: datetime64[ns](2), float64(12), int64(3), object(1), timedelta64[ns](1)\n",
      "memory usage: 55.3+ KB\n"
     ]
    }
   ],
   "source": [
    "# Lets check the health of the data set\n",
    "user_data_to_clean.info()"
   ]
  },
  {
   "cell_type": "markdown",
   "metadata": {},
   "source": [
    "The second column of the above table describes, the number of non-null values in the respective column.\n",
    "As is visible for the columns of interest for us,\n",
    "eg. *num_modules_consumed* has ONLY 69 values out of possible 371 total"
   ]
  },
  {
   "cell_type": "code",
   "execution_count": 268,
   "metadata": {
    "collapsed": false
   },
   "outputs": [],
   "source": [
    "# Lets remove all columns from the data set that do not have to be imputed - \n",
    "user_data_to_impute = user_data_to_clean.drop([\"user_id\", \"watching_videos\", \"num_of_days_steps_tracked\", \"num_of_days_weight_tracked\", \"insulin_a1c_count\", \"weight\", \"height\", \"bmi\", \"age\", \"gender\", \"has_diabetes\", \"first_login\", \"last_activity\", \"age_on_platform\", \"hemoglobin_count\", \"cholesterol_count\"], 1 )"
   ]
  },
  {
   "cell_type": "code",
   "execution_count": 269,
   "metadata": {
    "collapsed": false
   },
   "outputs": [
    {
     "name": "stdout",
     "output_type": "stream",
     "text": [
      "<class 'pandas.core.frame.DataFrame'>\n",
      "RangeIndex: 372 entries, 0 to 371\n",
      "Data columns (total 3 columns):\n",
      "num_modules_consumed        69 non-null float64\n",
      "num_glucose_tracked         91 non-null float64\n",
      "num_of_days_food_tracked    78 non-null float64\n",
      "dtypes: float64(3)\n",
      "memory usage: 8.8 KB\n"
     ]
    }
   ],
   "source": [
    "user_data_to_impute.info()"
   ]
  },
  {
   "cell_type": "markdown",
   "metadata": {},
   "source": [
    "#### The next 3 cells describes the steps to Impute data using KNN strategy, sadly this is not working well for our data set! One possible reason could be that the column is too sparse to find a neighbourer !\n",
    "In future this method could be combined with the mean imputation method, so the values not covered by KNN get replaced with mean values. "
   ]
  },
  {
   "cell_type": "markdown",
   "metadata": {},
   "source": [
    "[Github repo and Documentation for fancyimpute](https://github.com/hammerlab/fancyimpute)"
   ]
  },
  {
   "cell_type": "code",
   "execution_count": 270,
   "metadata": {
    "collapsed": false
   },
   "outputs": [],
   "source": [
    "# Import Imputation method KNN\n",
    "##from fancyimpute import KNN"
   ]
  },
  {
   "cell_type": "code",
   "execution_count": 271,
   "metadata": {
    "collapsed": true
   },
   "outputs": [],
   "source": [
    "# First lets convert the Pandas Dataframe into a Numpy array. We do this since the data frame needs to be transposed,\n",
    "# which is only possible if the format is an Numpy array.\n",
    "##user_data_to_impute_np_array = user_data_to_impute.as_matrix()\n",
    "# Lets Transpose it\n",
    "##user_data_to_impute_np_array_transposed = user_data_to_impute_np_array.T"
   ]
  },
  {
   "cell_type": "code",
   "execution_count": 272,
   "metadata": {
    "collapsed": false,
    "scrolled": true
   },
   "outputs": [],
   "source": [
    "# Run the KNN method on the data.   function usage X_filled_knn = KNN(k=3).complete(X_incomplete)\n",
    "##user_data_imputed_knn_np_array = KNN(k=5).complete(user_data_to_impute_np_array_transposed)"
   ]
  },
  {
   "cell_type": "markdown",
   "metadata": {},
   "source": [
    "The above 3 steps are for KNN based Imputation, did not work well. As visible 804 items could not be imputed for and get replaced with zero"
   ]
  },
  {
   "cell_type": "markdown",
   "metadata": {},
   "source": [
    "### Lets use simpler method that is provided by Scikit Learn itself"
   ]
  },
  {
   "cell_type": "code",
   "execution_count": 273,
   "metadata": {
    "collapsed": false
   },
   "outputs": [],
   "source": [
    "# Lets use simpler method that is provided by Scikit Learn itself\n",
    "# import the function\n",
    "from sklearn.preprocessing import Imputer"
   ]
  },
  {
   "cell_type": "code",
   "execution_count": 274,
   "metadata": {
    "collapsed": true
   },
   "outputs": [],
   "source": [
    "# Create an object of class Imputer, with the relvant parameters\n",
    "imputer_object = Imputer(missing_values='NaN', strategy='mean', axis=0, copy=False)"
   ]
  },
  {
   "cell_type": "code",
   "execution_count": 275,
   "metadata": {
    "collapsed": false
   },
   "outputs": [],
   "source": [
    "# Impute the data and save the generated Numpy array\n",
    "user_data_imputed_np_array = imputer_object.fit_transform(user_data_to_impute)"
   ]
  },
  {
   "cell_type": "markdown",
   "metadata": {},
   "source": [
    "#### the *user_data_imputed_np_array* is a NumPy array, we need to convert it back to Pandas data frame"
   ]
  },
  {
   "cell_type": "code",
   "execution_count": 276,
   "metadata": {
    "collapsed": false
   },
   "outputs": [
    {
     "name": "stdout",
     "output_type": "stream",
     "text": [
      "<class 'pandas.core.frame.DataFrame'>\n",
      "RangeIndex: 372 entries, 0 to 371\n",
      "Data columns (total 3 columns):\n",
      "num_modules_consumed        372 non-null float64\n",
      "num_glucose_tracked         372 non-null float64\n",
      "num_of_days_food_tracked    372 non-null float64\n",
      "dtypes: float64(3)\n",
      "memory usage: 8.8 KB\n"
     ]
    }
   ],
   "source": [
    "# create a list of tuples, with the column name and data type for all existing columns in the Numpy array.\n",
    "# exact order of columns has to be maintained\n",
    "column_names_of_imputed_np_array = ['num_modules_consumed', 'num_glucose_tracked', 'num_of_days_food_tracked']\n",
    "# create the Pandas data frame from the Numpy array\n",
    "user_data_imputed_data_frame = pd.DataFrame(user_data_imputed_np_array, columns=column_names_of_imputed_np_array)\n",
    "# Check if the data frame created now is proper\n",
    "user_data_imputed_data_frame.info()"
   ]
  },
  {
   "cell_type": "markdown",
   "metadata": {},
   "source": [
    "### Now lets add back the useful colums that we had removed from data set, these are\n",
    "* *last_activity*\n",
    "* *first_login*\n",
    "* *age_on_platform*\n",
    "* *watching_videos*"
   ]
  },
  {
   "cell_type": "code",
   "execution_count": 277,
   "metadata": {
    "collapsed": false
   },
   "outputs": [
    {
     "name": "stdout",
     "output_type": "stream",
     "text": [
      "<class 'pandas.core.frame.DataFrame'>\n",
      "RangeIndex: 372 entries, 0 to 371\n",
      "Data columns (total 6 columns):\n",
      "num_modules_consumed        372 non-null float64\n",
      "num_glucose_tracked         372 non-null float64\n",
      "num_of_days_food_tracked    372 non-null float64\n",
      "first_login                 372 non-null datetime64[ns]\n",
      "last_activity               302 non-null datetime64[ns]\n",
      "age_on_platform             302 non-null timedelta64[ns]\n",
      "dtypes: datetime64[ns](2), float64(3), timedelta64[ns](1)\n",
      "memory usage: 17.5 KB\n"
     ]
    }
   ],
   "source": [
    "# using the Series contructor from Pandas\n",
    "user_data_imputed_data_frame['first_login'] = pd.Series(user_data_to_clean['first_login'])\n",
    "user_data_imputed_data_frame['last_activity'] = pd.Series(user_data_to_clean['last_activity'])\n",
    "user_data_imputed_data_frame['age_on_platform'] = pd.Series(user_data_to_clean['age_on_platform'])\n",
    "# Check if every thing is Ok\n",
    "user_data_imputed_data_frame.info()"
   ]
  },
  {
   "cell_type": "markdown",
   "metadata": {},
   "source": [
    "#### As mentioned in column description for *watching_videos* a blank or no value, means '0' also know as 'Not watching'\n",
    "#### Since Scikit Learn models can ONLY deal with numerical values, lets convert all blanks to '0'"
   ]
  },
  {
   "cell_type": "code",
   "execution_count": 278,
   "metadata": {
    "collapsed": false
   },
   "outputs": [
    {
     "name": "stdout",
     "output_type": "stream",
     "text": [
      "<class 'pandas.core.frame.DataFrame'>\n",
      "RangeIndex: 372 entries, 0 to 371\n",
      "Data columns (total 7 columns):\n",
      "num_modules_consumed        372 non-null float64\n",
      "num_glucose_tracked         372 non-null float64\n",
      "num_of_days_food_tracked    372 non-null float64\n",
      "first_login                 372 non-null datetime64[ns]\n",
      "last_activity               302 non-null datetime64[ns]\n",
      "age_on_platform             302 non-null timedelta64[ns]\n",
      "watching_videos             372 non-null float64\n",
      "dtypes: datetime64[ns](2), float64(4), timedelta64[ns](1)\n",
      "memory usage: 20.4 KB\n"
     ]
    }
   ],
   "source": [
    "# fillna(0) function will fill all blank cells with '0'\n",
    "user_data_imputed_data_frame['watching_videos'] = pd.Series(user_data_to_clean['watching_videos'].fillna(0))\n",
    "user_data_imputed_data_frame.info()"
   ]
  },
  {
   "cell_type": "markdown",
   "metadata": {},
   "source": [
    "### Finally the columns *first_login*, *last_activity*, *age_on_platform* have missing values, as evident from above table. Since this is time data, that in my opinion should not be imputed, we will drop/delete the columns."
   ]
  },
  {
   "cell_type": "code",
   "execution_count": 279,
   "metadata": {
    "collapsed": false
   },
   "outputs": [
    {
     "name": "stdout",
     "output_type": "stream",
     "text": [
      "<class 'pandas.core.frame.DataFrame'>\n",
      "Int64Index: 302 entries, 0 to 370\n",
      "Data columns (total 7 columns):\n",
      "num_modules_consumed        302 non-null float64\n",
      "num_glucose_tracked         302 non-null float64\n",
      "num_of_days_food_tracked    302 non-null float64\n",
      "first_login                 302 non-null datetime64[ns]\n",
      "last_activity               302 non-null datetime64[ns]\n",
      "age_on_platform             302 non-null timedelta64[ns]\n",
      "watching_videos             302 non-null float64\n",
      "dtypes: datetime64[ns](2), float64(4), timedelta64[ns](1)\n",
      "memory usage: 18.9 KB\n"
     ]
    }
   ],
   "source": [
    "# Since only these three columns are having null values, we can run the function *dropna()* on the whole data frame\n",
    "# All rows with missing data get dropped\n",
    "user_data_imputed_data_frame.dropna(axis=0, inplace=True)\n",
    "user_data_imputed_data_frame.info()"
   ]
  },
  {
   "cell_type": "markdown",
   "metadata": {},
   "source": [
    "# Labelling the Raw data"
   ]
  },
  {
   "cell_type": "markdown",
   "metadata": {},
   "source": [
    "Now comes the code that will based on the rules mentioned below label the provided data, so it can be used as trainning data for the classifer."
   ]
  },
  {
   "cell_type": "markdown",
   "metadata": {},
   "source": [
    "This tables defines the set of rules used to assign labels for Traning data"
   ]
  },
  {
   "cell_type": "markdown",
   "metadata": {},
   "source": [
    "| label               | age_on_platform      | last_activity             | num_modules_comsumed        | num_of_days_food_tracked | num_glucose_tracked         | watching_videos  |\n",
    "|---------------------|----------------------|---------------------------|-----------------------------|--------------------------|-----------------------------|------------------|\n",
    "| Generic (ignore)    | Converted to days    | to be Measured from 16Apr | Good >= 3/week Bad < 3/week | Good >= 30 Bad < 30      | Good >= 4/week Bad < 4/week | Good = 1 Bad = 0 |\n",
    "| good_new_user = **1**       | >= 30 days && < 180  | <= 2 days                 | >= 12                       | >= 20                    | >= 16                       | Good = 1         |\n",
    "| bad_new_user = **2**    | >= 30 days && < 180  | > 2 days                  | < 12                        | < 20                     | < 16                        | Bad = 0          |\n",
    "| good_mid_term_user = **3**  | >= 180 days && < 360 | <= 7 days                 | >= 48                       | >= 30                    | >= 96                       | Good = 1         |\n",
    "| bad_mid_term_user = **4**   | >= 180 days && <360  | > 7 days                  | < 48                        | < 30                     | < 96                        | Bad = 0          |\n",
    "| good_long_term_user = **5** | >= 360 days          | <= 14 days                | >= 48                       | >= 30                    | >= 192                      | Good = 1         |\n",
    "| bad_long_term_user = **6** | >= 360 days          | > 14 days                 | < 48                        | < 30                     | < 192                       | Bad = 0          |"
   ]
  },
  {
   "cell_type": "code",
   "execution_count": 280,
   "metadata": {
    "collapsed": false
   },
   "outputs": [
    {
     "data": {
      "text/plain": [
       "array([ 2.,  4.,  0.,  6.])"
      ]
     },
     "execution_count": 280,
     "metadata": {},
     "output_type": "execute_result"
    }
   ],
   "source": [
    "# This if else section will bin the rows based on the critiria for labels mentioned in the table above\n",
    "\n",
    "user_data_imputed_data_frame_labeled = user_data_imputed_data_frame\n",
    "\n",
    "for index, row in user_data_imputed_data_frame.iterrows():\n",
    "    \n",
    "    if row[\"age_on_platform\"] >= np.timedelta64(30, 'D') and row[\"age_on_platform\"] < np.timedelta64(180, 'D'):    \n",
    "        if row['last_activity'] <= np.datetime64(2, 'D') and\\\n",
    "            row['num_modules_consumed'] >= 12 and\\\n",
    "            row['num_of_days_food_tracked'] >= 20 and\\\n",
    "            row['num_glucose_tracked'] >= 16 and\\\n",
    "            row['watching_videos'] == 1:\n",
    "            user_data_imputed_data_frame_labeled.set_value(index, 'label', 1)\n",
    "        else:\n",
    "            user_data_imputed_data_frame_labeled.set_value(index, 'label', 2)\n",
    "    \n",
    "    elif row[\"age_on_platform\"] >= np.timedelta64(180, 'D') and row[\"age_on_platform\"] < np.timedelta64(360, 'D'):\n",
    "        if row['last_activity'] <= np.datetime64(7, 'D') and\\\n",
    "            row['num_modules_consumed'] >= 48 and\\\n",
    "            row['num_of_days_food_tracked'] >= 30 and\\\n",
    "            row['num_glucose_tracked'] >= 96 and\\\n",
    "            row['watching_videos'] == 1:\n",
    "            user_data_imputed_data_frame_labeled.set_value(index, 'label', 3)\n",
    "        else:\n",
    "            user_data_imputed_data_frame_labeled.set_value(index, 'label', 4)\n",
    "            \n",
    "    elif row[\"age_on_platform\"] >= np.timedelta64(360, 'D'):\n",
    "        if row['last_activity'] <= np.datetime64(14, 'D') and\\\n",
    "            row['num_modules_consumed'] >= 48 and\\\n",
    "            row['num_of_days_food_tracked'] >= 30 and\\\n",
    "            row['num_glucose_tracked'] >= 192 and\\\n",
    "            row['watching_videos'] == 1:\n",
    "            user_data_imputed_data_frame_labeled.set_value(index, 'label', 5)\n",
    "        else:\n",
    "            user_data_imputed_data_frame_labeled.set_value(index, 'label', 6)\n",
    "    else:\n",
    "        user_data_imputed_data_frame_labeled.set_value(index, 'label', 0)\n",
    "        \n",
    "user_data_imputed_data_frame_labeled['label'].unique()"
   ]
  },
  {
   "cell_type": "markdown",
   "metadata": {},
   "source": [
    "#### The output above for the array says only **2,4,6,0** were selected as labels. Which means there are no good users in all three **new, mid, long - term** categories.\n",
    "### Consequently either I change the label selection model or get better data (which has good users) :P"
   ]
  },
  {
   "cell_type": "code",
   "execution_count": 281,
   "metadata": {
    "collapsed": false
   },
   "outputs": [
    {
     "name": "stdout",
     "output_type": "stream",
     "text": [
      "<class 'pandas.core.frame.DataFrame'>\n",
      "Int64Index: 302 entries, 0 to 370\n",
      "Data columns (total 8 columns):\n",
      "num_modules_consumed        302 non-null float64\n",
      "num_glucose_tracked         302 non-null float64\n",
      "num_of_days_food_tracked    302 non-null float64\n",
      "first_login                 302 non-null datetime64[ns]\n",
      "last_activity               302 non-null datetime64[ns]\n",
      "age_on_platform             302 non-null timedelta64[ns]\n",
      "watching_videos             302 non-null float64\n",
      "label                       302 non-null float64\n",
      "dtypes: datetime64[ns](2), float64(5), timedelta64[ns](1)\n",
      "memory usage: 21.2 KB\n"
     ]
    }
   ],
   "source": [
    "# Look at basic info for this Labeled data frame\n",
    "user_data_imputed_data_frame_labeled.info()"
   ]
  },
  {
   "cell_type": "code",
   "execution_count": 282,
   "metadata": {
    "collapsed": true
   },
   "outputs": [],
   "source": [
    "# Save the labeled data frame as excel file\n",
    "from pandas import options\n",
    "options.io.excel.xlsx.writer = 'xlsxwriter'\n",
    "user_data_imputed_data_frame_labeled.to_excel('user_data_imputed_data_frame_labeled.xlsx')"
   ]
  },
  {
   "cell_type": "markdown",
   "metadata": {},
   "source": [
    "# Training and Testing the ML algorithm\n",
    "## Lets move on to the thing we all have been waiting for:"
   ]
  },
  {
   "cell_type": "markdown",
   "metadata": {},
   "source": [
    "### model training and testing"
   ]
  },
  {
   "cell_type": "markdown",
   "metadata": {},
   "source": [
    "For the training the model we need two lists, one list with only the Labels column. Second list is actually a list of lists with each sub list containing the full row of feature columns."
   ]
  },
  {
   "cell_type": "markdown",
   "metadata": {},
   "source": [
    "#### Before we do anything we need to seprate out 30% of the data for testing purpose"
   ]
  },
  {
   "cell_type": "code",
   "execution_count": 283,
   "metadata": {
    "collapsed": false
   },
   "outputs": [
    {
     "name": "stdout",
     "output_type": "stream",
     "text": [
      "<class 'pandas.core.frame.DataFrame'>\n",
      "Int64Index: 212 entries, 90 to 370\n",
      "Data columns (total 8 columns):\n",
      "num_modules_consumed        212 non-null float64\n",
      "num_glucose_tracked         212 non-null float64\n",
      "num_of_days_food_tracked    212 non-null float64\n",
      "first_login                 212 non-null datetime64[ns]\n",
      "last_activity               212 non-null datetime64[ns]\n",
      "age_on_platform             212 non-null timedelta64[ns]\n",
      "watching_videos             212 non-null float64\n",
      "label                       212 non-null float64\n",
      "dtypes: datetime64[ns](2), float64(5), timedelta64[ns](1)\n",
      "memory usage: 14.9 KB\n"
     ]
    }
   ],
   "source": [
    "# Total number of rows is 302; 30% of that is ~90\n",
    "user_data_imputed_data_frame_labeled_training = user_data_imputed_data_frame_labeled.ix[90:]\n",
    "user_data_imputed_data_frame_labeled_training.info()"
   ]
  },
  {
   "cell_type": "code",
   "execution_count": 284,
   "metadata": {
    "collapsed": false
   },
   "outputs": [
    {
     "data": {
      "text/plain": [
       "float"
      ]
     },
     "execution_count": 284,
     "metadata": {},
     "output_type": "execute_result"
    }
   ],
   "source": [
    "# Lets first make our list of Labels column\n",
    "#for index, row in user_data_imputed_data_frame.iterrows():\n",
    "label_list = user_data_imputed_data_frame_labeled_training['label'].values.tolist()\n",
    "# Check data type of elements of the list\n",
    "type(label_list[0])"
   ]
  },
  {
   "cell_type": "code",
   "execution_count": 285,
   "metadata": {
    "collapsed": false
   },
   "outputs": [
    {
     "data": {
      "text/plain": [
       "int"
      ]
     },
     "execution_count": 285,
     "metadata": {},
     "output_type": "execute_result"
    }
   ],
   "source": [
    "# Lets convert the data type of all elements of the list to int\n",
    "label_list_training = map(int, label_list)\n",
    "# Check data type of elements of the list\n",
    "type(label_list_training[5])"
   ]
  },
  {
   "cell_type": "markdown",
   "metadata": {},
   "source": [
    "## Here we remove the Timedate columns too, the issue is Sci Kit learn methods can only deal with numerical and string features. I am trying to sort this issue "
   ]
  },
  {
   "cell_type": "code",
   "execution_count": 286,
   "metadata": {
    "collapsed": false,
    "scrolled": true
   },
   "outputs": [
    {
     "name": "stdout",
     "output_type": "stream",
     "text": [
      "<class 'pandas.core.frame.DataFrame'>\n",
      "Int64Index: 212 entries, 90 to 370\n",
      "Data columns (total 4 columns):\n",
      "num_modules_consumed        212 non-null float64\n",
      "num_glucose_tracked         212 non-null float64\n",
      "num_of_days_food_tracked    212 non-null float64\n",
      "watching_videos             212 non-null float64\n",
      "dtypes: float64(4)\n",
      "memory usage: 8.3 KB\n"
     ]
    }
   ],
   "source": [
    "# Now to create the other list of lists with features as elements\n",
    "# before that we will have to remove the Labels column\n",
    "user_data_imputed_data_frame_UNlabeled_training = user_data_imputed_data_frame_labeled_training.drop(['label', 'first_login', 'last_activity', 'age_on_platform'] ,1)\n",
    "user_data_imputed_data_frame_UNlabeled_training.info()"
   ]
  },
  {
   "cell_type": "code",
   "execution_count": 287,
   "metadata": {
    "collapsed": false
   },
   "outputs": [
    {
     "name": "stdout",
     "output_type": "stream",
     "text": [
      "<class 'pandas.core.frame.DataFrame'>\n",
      "Int64Index: 212 entries, 90 to 370\n",
      "Data columns (total 4 columns):\n",
      "num_modules_consumed        212 non-null float64\n",
      "num_glucose_tracked         212 non-null float64\n",
      "num_of_days_food_tracked    212 non-null float64\n",
      "watching_videos             212 non-null int64\n",
      "dtypes: float64(3), int64(1)\n",
      "memory usage: 8.3 KB\n"
     ]
    }
   ],
   "source": [
    "# As you may notice, the data type of *watching_videos* is float, while it should be int\n",
    "user_data_imputed_data_frame_UNlabeled_training['watching_videos'] = user_data_imputed_data_frame_UNlabeled_training['watching_videos'].apply(lambda x: int(x))\n",
    "user_data_imputed_data_frame_UNlabeled_training.info()"
   ]
  },
  {
   "cell_type": "code",
   "execution_count": 288,
   "metadata": {
    "collapsed": false
   },
   "outputs": [],
   "source": [
    "# Finally lets create the list of list from the row contents\n",
    "features_list_training = map(list, user_data_imputed_data_frame_UNlabeled_training.values)"
   ]
  },
  {
   "cell_type": "markdown",
   "metadata": {},
   "source": [
    "### Its time to train the model"
   ]
  },
  {
   "cell_type": "code",
   "execution_count": 289,
   "metadata": {
    "collapsed": true
   },
   "outputs": [],
   "source": [
    "from sklearn import tree"
   ]
  },
  {
   "cell_type": "code",
   "execution_count": 290,
   "metadata": {
    "collapsed": false
   },
   "outputs": [],
   "source": [
    "classifier = tree.DecisionTreeClassifier() # We create an instance of the Decision tree object\n",
    "classifier = classifier.fit(features_list_training, label_list_training) # Train the classifier"
   ]
  },
  {
   "cell_type": "code",
   "execution_count": 291,
   "metadata": {
    "collapsed": false
   },
   "outputs": [
    {
     "name": "stdout",
     "output_type": "stream",
     "text": [
      "<class 'pandas.core.frame.DataFrame'>\n",
      "Int64Index: 91 entries, 0 to 90\n",
      "Data columns (total 4 columns):\n",
      "num_modules_consumed        91 non-null float64\n",
      "num_glucose_tracked         91 non-null float64\n",
      "num_of_days_food_tracked    91 non-null float64\n",
      "watching_videos             91 non-null float64\n",
      "dtypes: float64(4)\n",
      "memory usage: 3.6 KB\n"
     ]
    }
   ],
   "source": [
    "# Testing data is the first 90 rows\n",
    "user_data_imputed_data_frame_labeled_testing = user_data_imputed_data_frame_labeled.ix[:90]\n",
    "\n",
    "# take the labels in seprate list\n",
    "label_list_test = user_data_imputed_data_frame_labeled_testing['label'].values.tolist()\n",
    "label_list_test = map(int, label_list_test)\n",
    "\n",
    "# Drop the time and Label columns \n",
    "user_data_imputed_data_frame_UNlabeled_testing = user_data_imputed_data_frame_labeled_testing.drop(['label', 'first_login', 'last_activity', 'age_on_platform'] ,1) \n",
    "# Check if every thing looks ok\n",
    "user_data_imputed_data_frame_UNlabeled_testing.info()"
   ]
  },
  {
   "cell_type": "code",
   "execution_count": 292,
   "metadata": {
    "collapsed": true
   },
   "outputs": [],
   "source": [
    "# Finally lets create the list of list from the row contents for testing\n",
    "features_list_test = map(list, user_data_imputed_data_frame_UNlabeled_testing.values)"
   ]
  },
  {
   "cell_type": "code",
   "execution_count": 293,
   "metadata": {
    "collapsed": false
   },
   "outputs": [
    {
     "data": {
      "text/plain": [
       "91"
      ]
     },
     "execution_count": 293,
     "metadata": {},
     "output_type": "execute_result"
    }
   ],
   "source": [
    "len(features_list_test)"
   ]
  },
  {
   "cell_type": "code",
   "execution_count": 294,
   "metadata": {
    "collapsed": false
   },
   "outputs": [
    {
     "name": "stdout",
     "output_type": "stream",
     "text": [
      "[6, 2, 6, 6, 2, 6, 2, 2, 2, 6]\n"
     ]
    }
   ],
   "source": [
    "print list(classifier.predict(features_list_test[:10]))"
   ]
  },
  {
   "cell_type": "code",
   "execution_count": 295,
   "metadata": {
    "collapsed": false
   },
   "outputs": [
    {
     "name": "stdout",
     "output_type": "stream",
     "text": [
      "[2, 2, 4, 4, 0, 4, 2, 2, 4, 2]\n"
     ]
    }
   ],
   "source": [
    "print label_list_test[:10]"
   ]
  },
  {
   "cell_type": "markdown",
   "metadata": {},
   "source": [
    "### Does not seem to be doing very well !! :("
   ]
  },
  {
   "cell_type": "code",
   "execution_count": null,
   "metadata": {
    "collapsed": true
   },
   "outputs": [],
   "source": []
  }
 ],
 "metadata": {
  "kernelspec": {
   "display_name": "Python 2",
   "language": "python",
   "name": "python2"
  },
  "language_info": {
   "codemirror_mode": {
    "name": "ipython",
    "version": 2
   },
   "file_extension": ".py",
   "mimetype": "text/x-python",
   "name": "python",
   "nbconvert_exporter": "python",
   "pygments_lexer": "ipython2",
   "version": "2.7.9"
  }
 },
 "nbformat": 4,
 "nbformat_minor": 0
}
