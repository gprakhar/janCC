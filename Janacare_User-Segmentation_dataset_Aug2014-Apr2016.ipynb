{
 "cells": [
  {
   "cell_type": "markdown",
   "metadata": {},
   "source": [
    "Hello World!\n",
    "This notebook describes the decision tree based Machine Learning model I have created\n",
    "to segment the users of Habits app."
   ]
  },
  {
   "cell_type": "code",
   "execution_count": 2,
   "metadata": {
    "collapsed": true
   },
   "outputs": [],
   "source": [
    "# Import the required modules\n",
    "import pandas as pd"
   ]
  },
  {
   "cell_type": "code",
   "execution_count": 11,
   "metadata": {
    "collapsed": false
   },
   "outputs": [],
   "source": [
    "# simple function to read in the user data file.\n",
    "# the argument parse_dates takes in a list of colums, which are to be parsed as date format\n",
    "user_data = pd.read_csv(\"janacare_user-engagement_Aug2014-Apr2016.csv\", parse_dates = [-3,-2,-1])"
   ]
  },
  {
   "cell_type": "code",
   "execution_count": 12,
   "metadata": {
    "collapsed": false
   },
   "outputs": [
    {
     "data": {
      "text/plain": [
       "(372, 19)"
      ]
     },
     "execution_count": 12,
     "metadata": {},
     "output_type": "execute_result"
    }
   ],
   "source": [
    "# data metrics\n",
    "user_data.shape # Rows , colums"
   ]
  },
  {
   "cell_type": "code",
   "execution_count": 13,
   "metadata": {
    "collapsed": false
   },
   "outputs": [
    {
     "data": {
      "text/plain": [
       "user_id                                                        float64\n",
       "num_modules_consumed                                           float64\n",
       "num_glucose_tracked                                            float64\n",
       "num_of_days_steps_tracked                                      float64\n",
       "num_of_days_food_tracked                                       float64\n",
       "num_of_days_weight_tracked                                     float64\n",
       "insulin_a1c_count                                              float64\n",
       "cholesterol_count                                              float64\n",
       "hemoglobin_count                                               float64\n",
       "watching_videos (binary - 1 for yes, blank/0 for no)           float64\n",
       "weight                                                         float64\n",
       "height                                                           int64\n",
       "bmi                                                              int64\n",
       "age                                                              int64\n",
       "gender                                                          object\n",
       "has_diabetes                                                   float64\n",
       "first_login                                             datetime64[ns]\n",
       "last_activity                                           datetime64[ns]\n",
       "age_on_platform                                                 object\n",
       "dtype: object"
      ]
     },
     "execution_count": 13,
     "metadata": {},
     "output_type": "execute_result"
    }
   ],
   "source": [
    "# data metrics\n",
    "user_data.dtypes # data type of colums"
   ]
  },
  {
   "cell_type": "markdown",
   "metadata": {},
   "source": [
    "As is visible from the last column data type, Pandas is not recognising it as data type format. \n",
    "This will make things difficult, so I delete this particular column and add a new one.\n",
    "Since "
   ]
  },
  {
   "cell_type": "code",
   "execution_count": 14,
   "metadata": {
    "collapsed": true
   },
   "outputs": [],
   "source": [
    "# drop last column\n",
    "user_data_del_last_col = user_data.drop(\"age_on_platform\", 1)"
   ]
  },
  {
   "cell_type": "code",
   "execution_count": 17,
   "metadata": {
    "collapsed": false
   },
   "outputs": [
    {
     "data": {
      "text/plain": [
       "(372, 18)"
      ]
     },
     "execution_count": 17,
     "metadata": {},
     "output_type": "execute_result"
    }
   ],
   "source": [
    "# Check if colums has been deleted. Number of column changed from 19 to 18\n",
    "user_data_del_last_col.shape"
   ]
  },
  {
   "cell_type": "code",
   "execution_count": null,
   "metadata": {
    "collapsed": true
   },
   "outputs": [],
   "source": []
  }
 ],
 "metadata": {
  "kernelspec": {
   "display_name": "Python 2",
   "language": "python",
   "name": "python2"
  },
  "language_info": {
   "codemirror_mode": {
    "name": "ipython",
    "version": 2
   },
   "file_extension": ".py",
   "mimetype": "text/x-python",
   "name": "python",
   "nbconvert_exporter": "python",
   "pygments_lexer": "ipython2",
   "version": "2.7.11"
  }
 },
 "nbformat": 4,
 "nbformat_minor": 0
}
