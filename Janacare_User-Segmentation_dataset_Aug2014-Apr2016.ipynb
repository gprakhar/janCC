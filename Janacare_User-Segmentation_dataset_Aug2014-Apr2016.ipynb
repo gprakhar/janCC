{
 "cells": [
  {
   "cell_type": "markdown",
   "metadata": {},
   "source": [
    "Hello World!\n",
    "This notebook describes the decision tree based Machine Learning model I have created\n",
    "to segment the users of Habits app."
   ]
  },
  {
   "cell_type": "markdown",
   "metadata": {},
   "source": [
    "# Looking around the data set and getting all colums in required format"
   ]
  },
  {
   "cell_type": "code",
   "execution_count": 42,
   "metadata": {
    "collapsed": true
   },
   "outputs": [],
   "source": [
    "# Import the required modules\n",
    "import pandas as pd\n",
    "import numpy as np\n",
    "import scipy as sp"
   ]
  },
  {
   "cell_type": "code",
   "execution_count": 3,
   "metadata": {
    "collapsed": false
   },
   "outputs": [],
   "source": [
    "# simple function to read in the user data file.\n",
    "# the argument parse_dates takes in a list of colums, which are to be parsed as date format\n",
    "user_data_raw = pd.read_csv(\"janacare_user-engagement_Aug2014-Apr2016.csv\", parse_dates = [-3,-2,-1])"
   ]
  },
  {
   "cell_type": "code",
   "execution_count": 4,
   "metadata": {
    "collapsed": false
   },
   "outputs": [
    {
     "data": {
      "text/plain": [
       "(372, 19)"
      ]
     },
     "execution_count": 4,
     "metadata": {},
     "output_type": "execute_result"
    }
   ],
   "source": [
    "# data metrics\n",
    "user_data_raw.shape # Rows , colums"
   ]
  },
  {
   "cell_type": "code",
   "execution_count": 5,
   "metadata": {
    "collapsed": false
   },
   "outputs": [
    {
     "data": {
      "text/plain": [
       "user_id                                                        float64\n",
       "num_modules_consumed                                           float64\n",
       "num_glucose_tracked                                            float64\n",
       "num_of_days_steps_tracked                                      float64\n",
       "num_of_days_food_tracked                                       float64\n",
       "num_of_days_weight_tracked                                     float64\n",
       "insulin_a1c_count                                              float64\n",
       "cholesterol_count                                              float64\n",
       "hemoglobin_count                                               float64\n",
       "watching_videos (binary - 1 for yes, blank/0 for no)           float64\n",
       "weight                                                         float64\n",
       "height                                                           int64\n",
       "bmi                                                              int64\n",
       "age                                                              int64\n",
       "gender                                                          object\n",
       "has_diabetes                                                   float64\n",
       "first_login                                             datetime64[ns]\n",
       "last_activity                                           datetime64[ns]\n",
       "age_on_platform                                                 object\n",
       "dtype: object"
      ]
     },
     "execution_count": 5,
     "metadata": {},
     "output_type": "execute_result"
    }
   ],
   "source": [
    "# data metrics\n",
    "user_data_raw.dtypes # data type of colums"
   ]
  },
  {
   "cell_type": "markdown",
   "metadata": {},
   "source": [
    "As is visible from the last column data type, Pandas is not recognising it as date type format. \n",
    "This will make things difficult, so I delete this particular column and add a new one.\n",
    "Since the data in *age_on_platform* can be recreated from *last_activity* & *first_login* colums"
   ]
  },
  {
   "cell_type": "code",
   "execution_count": 6,
   "metadata": {
    "collapsed": true
   },
   "outputs": [],
   "source": [
    "# drop last column\n",
    "user_data_del_last_col = user_data_raw.drop(\"age_on_platform\", 1)"
   ]
  },
  {
   "cell_type": "code",
   "execution_count": 7,
   "metadata": {
    "collapsed": false
   },
   "outputs": [
    {
     "data": {
      "text/plain": [
       "(372, 18)"
      ]
     },
     "execution_count": 7,
     "metadata": {},
     "output_type": "execute_result"
    }
   ],
   "source": [
    "# Check if colums has been deleted. Number of column changed from 19 to 18\n",
    "user_data_del_last_col.shape"
   ]
  },
  {
   "cell_type": "code",
   "execution_count": 8,
   "metadata": {
    "collapsed": true
   },
   "outputs": [],
   "source": [
    "# Copy data frame 'user_data_del_last_col' into a new one\n",
    "user_data = user_data_del_last_col"
   ]
  },
  {
   "cell_type": "code",
   "execution_count": 9,
   "metadata": {
    "collapsed": true
   },
   "outputs": [],
   "source": [
    "# Create new column 'age_on_platform' which has the corresponding value in date type format\n",
    "user_data[\"age_on_platform\"] = user_data_del_last_col[\"last_activity\"]-user_data_del_last_col[\"first_login\"]"
   ]
  },
  {
   "cell_type": "code",
   "execution_count": 13,
   "metadata": {
    "collapsed": false
   },
   "outputs": [
    {
     "data": {
      "text/plain": [
       "0   151 days\n",
       "1   129 days\n",
       "2   211 days\n",
       "3   235 days\n",
       "4     3 days\n",
       "Name: age_on_platform, dtype: timedelta64[ns]"
      ]
     },
     "execution_count": 13,
     "metadata": {},
     "output_type": "execute_result"
    }
   ],
   "source": [
    "# Check the result in first few rows\n",
    "user_data[\"age_on_platform\"].head(5)"
   ]
  },
  {
   "cell_type": "markdown",
   "metadata": {},
   "source": [
    "#### The column name *watching_videos (binary - 1 for yes, blank/0 for no)* is too long and has special chars, lests change it to *watching_videos* df=df.rename(columns = {'two':'new_name'})"
   ]
  },
  {
   "cell_type": "code",
   "execution_count": 52,
   "metadata": {
    "collapsed": true
   },
   "outputs": [],
   "source": [
    "user_data = user_data.rename(columns = {'watching_videos (binary - 1 for yes, blank/0 for no)':'watching_videos'})"
   ]
  },
  {
   "cell_type": "code",
   "execution_count": 53,
   "metadata": {
    "collapsed": false
   },
   "outputs": [
    {
     "data": {
      "text/html": [
       "<div>\n",
       "<table border=\"1\" class=\"dataframe\">\n",
       "  <thead>\n",
       "    <tr style=\"text-align: right;\">\n",
       "      <th></th>\n",
       "      <th>user_id</th>\n",
       "      <th>num_modules_consumed</th>\n",
       "      <th>num_glucose_tracked</th>\n",
       "      <th>num_of_days_steps_tracked</th>\n",
       "      <th>num_of_days_food_tracked</th>\n",
       "      <th>num_of_days_weight_tracked</th>\n",
       "      <th>insulin_a1c_count</th>\n",
       "      <th>cholesterol_count</th>\n",
       "      <th>hemoglobin_count</th>\n",
       "      <th>watching_videos</th>\n",
       "      <th>weight</th>\n",
       "      <th>height</th>\n",
       "      <th>bmi</th>\n",
       "      <th>age</th>\n",
       "      <th>has_diabetes</th>\n",
       "      <th>age_on_platform</th>\n",
       "    </tr>\n",
       "  </thead>\n",
       "  <tbody>\n",
       "    <tr>\n",
       "      <th>count</th>\n",
       "      <td>371.00000</td>\n",
       "      <td>69.000000</td>\n",
       "      <td>91.000000</td>\n",
       "      <td>120.000000</td>\n",
       "      <td>78.000000</td>\n",
       "      <td>223.000000</td>\n",
       "      <td>47.000000</td>\n",
       "      <td>15.000000</td>\n",
       "      <td>0.0</td>\n",
       "      <td>97.0</td>\n",
       "      <td>372.000000</td>\n",
       "      <td>372.000000</td>\n",
       "      <td>372.000000</td>\n",
       "      <td>372.000000</td>\n",
       "      <td>39.000000</td>\n",
       "      <td>302</td>\n",
       "    </tr>\n",
       "    <tr>\n",
       "      <th>mean</th>\n",
       "      <td>13850.74124</td>\n",
       "      <td>12.072464</td>\n",
       "      <td>17.769231</td>\n",
       "      <td>53.433333</td>\n",
       "      <td>29.576923</td>\n",
       "      <td>3.210762</td>\n",
       "      <td>5.170213</td>\n",
       "      <td>4.733333</td>\n",
       "      <td>NaN</td>\n",
       "      <td>1.0</td>\n",
       "      <td>72.074597</td>\n",
       "      <td>169.306452</td>\n",
       "      <td>25.325269</td>\n",
       "      <td>49.223118</td>\n",
       "      <td>0.512821</td>\n",
       "      <td>142 days 21:32:11.125827</td>\n",
       "    </tr>\n",
       "    <tr>\n",
       "      <th>std</th>\n",
       "      <td>12773.29800</td>\n",
       "      <td>13.693406</td>\n",
       "      <td>38.881894</td>\n",
       "      <td>80.690792</td>\n",
       "      <td>47.019344</td>\n",
       "      <td>4.490778</td>\n",
       "      <td>12.694263</td>\n",
       "      <td>1.709915</td>\n",
       "      <td>NaN</td>\n",
       "      <td>0.0</td>\n",
       "      <td>14.744092</td>\n",
       "      <td>16.112564</td>\n",
       "      <td>5.194763</td>\n",
       "      <td>13.487788</td>\n",
       "      <td>0.506370</td>\n",
       "      <td>168 days 20:03:46.790780</td>\n",
       "    </tr>\n",
       "    <tr>\n",
       "      <th>min</th>\n",
       "      <td>4288.00000</td>\n",
       "      <td>1.000000</td>\n",
       "      <td>1.000000</td>\n",
       "      <td>1.000000</td>\n",
       "      <td>1.000000</td>\n",
       "      <td>1.000000</td>\n",
       "      <td>1.000000</td>\n",
       "      <td>3.000000</td>\n",
       "      <td>NaN</td>\n",
       "      <td>1.0</td>\n",
       "      <td>40.000000</td>\n",
       "      <td>120.000000</td>\n",
       "      <td>5.000000</td>\n",
       "      <td>11.000000</td>\n",
       "      <td>0.000000</td>\n",
       "      <td>-300 days +00:00:00</td>\n",
       "    </tr>\n",
       "    <tr>\n",
       "      <th>25%</th>\n",
       "      <td>6075.50000</td>\n",
       "      <td>3.000000</td>\n",
       "      <td>2.000000</td>\n",
       "      <td>6.750000</td>\n",
       "      <td>2.000000</td>\n",
       "      <td>1.000000</td>\n",
       "      <td>1.000000</td>\n",
       "      <td>4.000000</td>\n",
       "      <td>NaN</td>\n",
       "      <td>1.0</td>\n",
       "      <td>62.000000</td>\n",
       "      <td>162.000000</td>\n",
       "      <td>22.000000</td>\n",
       "      <td>39.000000</td>\n",
       "      <td>0.000000</td>\n",
       "      <td>28 days 00:00:00</td>\n",
       "    </tr>\n",
       "    <tr>\n",
       "      <th>50%</th>\n",
       "      <td>7462.00000</td>\n",
       "      <td>8.000000</td>\n",
       "      <td>5.000000</td>\n",
       "      <td>19.500000</td>\n",
       "      <td>10.500000</td>\n",
       "      <td>2.000000</td>\n",
       "      <td>2.000000</td>\n",
       "      <td>4.000000</td>\n",
       "      <td>NaN</td>\n",
       "      <td>1.0</td>\n",
       "      <td>70.000000</td>\n",
       "      <td>167.000000</td>\n",
       "      <td>25.000000</td>\n",
       "      <td>49.500000</td>\n",
       "      <td>1.000000</td>\n",
       "      <td>108 days 00:00:00</td>\n",
       "    </tr>\n",
       "    <tr>\n",
       "      <th>75%</th>\n",
       "      <td>15258.00000</td>\n",
       "      <td>15.000000</td>\n",
       "      <td>12.500000</td>\n",
       "      <td>65.000000</td>\n",
       "      <td>31.500000</td>\n",
       "      <td>3.000000</td>\n",
       "      <td>3.000000</td>\n",
       "      <td>5.000000</td>\n",
       "      <td>NaN</td>\n",
       "      <td>1.0</td>\n",
       "      <td>80.000000</td>\n",
       "      <td>172.000000</td>\n",
       "      <td>27.000000</td>\n",
       "      <td>60.000000</td>\n",
       "      <td>1.000000</td>\n",
       "      <td>234 days 12:00:00</td>\n",
       "    </tr>\n",
       "    <tr>\n",
       "      <th>max</th>\n",
       "      <td>49766.00000</td>\n",
       "      <td>78.000000</td>\n",
       "      <td>260.000000</td>\n",
       "      <td>469.000000</td>\n",
       "      <td>229.000000</td>\n",
       "      <td>40.000000</td>\n",
       "      <td>78.000000</td>\n",
       "      <td>10.000000</td>\n",
       "      <td>NaN</td>\n",
       "      <td>1.0</td>\n",
       "      <td>165.000000</td>\n",
       "      <td>349.000000</td>\n",
       "      <td>56.000000</td>\n",
       "      <td>77.000000</td>\n",
       "      <td>1.000000</td>\n",
       "      <td>667 days 00:00:00</td>\n",
       "    </tr>\n",
       "  </tbody>\n",
       "</table>\n",
       "</div>"
      ],
      "text/plain": [
       "           user_id  num_modules_consumed  num_glucose_tracked  \\\n",
       "count    371.00000             69.000000            91.000000   \n",
       "mean   13850.74124             12.072464            17.769231   \n",
       "std    12773.29800             13.693406            38.881894   \n",
       "min     4288.00000              1.000000             1.000000   \n",
       "25%     6075.50000              3.000000             2.000000   \n",
       "50%     7462.00000              8.000000             5.000000   \n",
       "75%    15258.00000             15.000000            12.500000   \n",
       "max    49766.00000             78.000000           260.000000   \n",
       "\n",
       "       num_of_days_steps_tracked  num_of_days_food_tracked  \\\n",
       "count                 120.000000                 78.000000   \n",
       "mean                   53.433333                 29.576923   \n",
       "std                    80.690792                 47.019344   \n",
       "min                     1.000000                  1.000000   \n",
       "25%                     6.750000                  2.000000   \n",
       "50%                    19.500000                 10.500000   \n",
       "75%                    65.000000                 31.500000   \n",
       "max                   469.000000                229.000000   \n",
       "\n",
       "       num_of_days_weight_tracked  insulin_a1c_count  cholesterol_count  \\\n",
       "count                  223.000000          47.000000          15.000000   \n",
       "mean                     3.210762           5.170213           4.733333   \n",
       "std                      4.490778          12.694263           1.709915   \n",
       "min                      1.000000           1.000000           3.000000   \n",
       "25%                      1.000000           1.000000           4.000000   \n",
       "50%                      2.000000           2.000000           4.000000   \n",
       "75%                      3.000000           3.000000           5.000000   \n",
       "max                     40.000000          78.000000          10.000000   \n",
       "\n",
       "       hemoglobin_count  watching_videos      weight      height         bmi  \\\n",
       "count               0.0             97.0  372.000000  372.000000  372.000000   \n",
       "mean                NaN              1.0   72.074597  169.306452   25.325269   \n",
       "std                 NaN              0.0   14.744092   16.112564    5.194763   \n",
       "min                 NaN              1.0   40.000000  120.000000    5.000000   \n",
       "25%                 NaN              1.0   62.000000  162.000000   22.000000   \n",
       "50%                 NaN              1.0   70.000000  167.000000   25.000000   \n",
       "75%                 NaN              1.0   80.000000  172.000000   27.000000   \n",
       "max                 NaN              1.0  165.000000  349.000000   56.000000   \n",
       "\n",
       "              age  has_diabetes           age_on_platform  \n",
       "count  372.000000     39.000000                       302  \n",
       "mean    49.223118      0.512821  142 days 21:32:11.125827  \n",
       "std     13.487788      0.506370  168 days 20:03:46.790780  \n",
       "min     11.000000      0.000000       -300 days +00:00:00  \n",
       "25%     39.000000      0.000000          28 days 00:00:00  \n",
       "50%     49.500000      1.000000         108 days 00:00:00  \n",
       "75%     60.000000      1.000000         234 days 12:00:00  \n",
       "max     77.000000      1.000000         667 days 00:00:00  "
      ]
     },
     "execution_count": 53,
     "metadata": {},
     "output_type": "execute_result"
    }
   ],
   "source": [
    "# Some basic statistical information on the data\n",
    "user_data.describe()"
   ]
  },
  {
   "cell_type": "markdown",
   "metadata": {},
   "source": [
    "# Data Clean up"
   ]
  },
  {
   "cell_type": "markdown",
   "metadata": {},
   "source": [
    "In the last section of looking around, I saw that a lot of rows do not have any values or have garbage values.\n",
    "This can cause errors when computing anything using the values in these rows, hence a clean up is required."
   ]
  },
  {
   "cell_type": "markdown",
   "metadata": {},
   "source": [
    "We will clean up only those columns, that are being used for features.\n",
    "\n",
    "* **num_modules_consumed**\n",
    "* **num_glucose_tracked**\n",
    "* **num_of_days_food_tracked**\n",
    "* **watching_videos**\n",
    "* **first_login**\n",
    "* **last_activity**"
   ]
  },
  {
   "cell_type": "code",
   "execution_count": 54,
   "metadata": {
    "collapsed": false,
    "scrolled": true
   },
   "outputs": [
    {
     "name": "stdout",
     "output_type": "stream",
     "text": [
      "<class 'pandas.core.frame.DataFrame'>\n",
      "RangeIndex: 372 entries, 0 to 371\n",
      "Data columns (total 19 columns):\n",
      "user_id                       371 non-null float64\n",
      "num_modules_consumed          69 non-null float64\n",
      "num_glucose_tracked           91 non-null float64\n",
      "num_of_days_steps_tracked     120 non-null float64\n",
      "num_of_days_food_tracked      78 non-null float64\n",
      "num_of_days_weight_tracked    223 non-null float64\n",
      "insulin_a1c_count             47 non-null float64\n",
      "cholesterol_count             15 non-null float64\n",
      "hemoglobin_count              0 non-null float64\n",
      "watching_videos               97 non-null float64\n",
      "weight                        372 non-null float64\n",
      "height                        372 non-null int64\n",
      "bmi                           372 non-null int64\n",
      "age                           372 non-null int64\n",
      "gender                        372 non-null object\n",
      "has_diabetes                  39 non-null float64\n",
      "first_login                   372 non-null datetime64[ns]\n",
      "last_activity                 302 non-null datetime64[ns]\n",
      "age_on_platform               302 non-null timedelta64[ns]\n",
      "dtypes: datetime64[ns](2), float64(12), int64(3), object(1), timedelta64[ns](1)\n",
      "memory usage: 55.3+ KB\n"
     ]
    }
   ],
   "source": [
    "# Lets check the health of the data set\n",
    "user_data.info()"
   ]
  },
  {
   "cell_type": "markdown",
   "metadata": {},
   "source": [
    "The second column of the above table describes, the number of non-null values in the respective column.\n",
    "As is visible for the columns of interest for us,\n",
    "eg. *num_modules_consumed* has ONLY 69 values out of possible 371 total"
   ]
  },
  {
   "cell_type": "code",
   "execution_count": 75,
   "metadata": {
    "collapsed": false
   },
   "outputs": [],
   "source": [
    "# Lets remove all columns from the data set that do not have to be imputed - \n",
    "user_data_to_impute = user_data.drop([\"user_id\", \"watching_videos\", \"num_of_days_steps_tracked\", \"num_of_days_weight_tracked\", \"insulin_a1c_count\", \"weight\", \"height\", \"bmi\", \"age\", \"gender\", \"has_diabetes\", \"first_login\", \"last_activity\", \"age_on_platform\", \"hemoglobin_count\", \"cholesterol_count\"], 1 )"
   ]
  },
  {
   "cell_type": "markdown",
   "metadata": {},
   "source": [
    "### The next 3 cells describes the steps to Impute data using KNN strategy, sadly this is not working well for our data set!"
   ]
  },
  {
   "cell_type": "code",
   "execution_count": 76,
   "metadata": {
    "collapsed": false
   },
   "outputs": [],
   "source": [
    "# Import Imputation method KNN\n",
    "from fancyimpute import KNN"
   ]
  },
  {
   "cell_type": "code",
   "execution_count": 77,
   "metadata": {
    "collapsed": true
   },
   "outputs": [],
   "source": [
    "# First lets convert the Pandas Dataframe into a Numpy array. We do this since the data frame needs to be transposed,\n",
    "# which is only possible if the format is an Numpy array.\n",
    "user_data_to_impute_np_array = user_data_to_impute.as_matrix()\n",
    "# Lets Transpose it\n",
    "user_data_to_impute_np_array_transposed = user_data_to_impute_np_array.T"
   ]
  },
  {
   "cell_type": "code",
   "execution_count": 78,
   "metadata": {
    "collapsed": false,
    "scrolled": true
   },
   "outputs": [
    {
     "name": "stdout",
     "output_type": "stream",
     "text": [
      "Computing pairwise distances between 3 samples\n",
      "Computing distances for sample #1/3, elapsed time: 0.000\n",
      "Imputing row 1/3 with 303 missing columns, elapsed time: 0.001\n",
      "[KNN] Warning: 705/1116 still missing after imputation, replacing with 0\n"
     ]
    }
   ],
   "source": [
    "# usage X_filled_knn = KNN(k=3).complete(X_incomplete)\n",
    "user_data_imputed_knn_np_array = KNN(k=5).complete(user_data_to_impute_np_array_transposed)"
   ]
  },
  {
   "cell_type": "markdown",
   "metadata": {},
   "source": [
    "### The above 3 steps are for KNN based Imputation, did not work well. As visible 804 items could not be imputed for and get replaced with zero"
   ]
  },
  {
   "cell_type": "code",
   "execution_count": 79,
   "metadata": {
    "collapsed": false
   },
   "outputs": [],
   "source": [
    "# Lets use simpler method that is provided by Scikit Learn itself\n",
    "# import the function\n",
    "from sklearn.preprocessing import Imputer"
   ]
  },
  {
   "cell_type": "code",
   "execution_count": 80,
   "metadata": {
    "collapsed": true
   },
   "outputs": [],
   "source": [
    "# Create an object of class Imputer, with the relvant parameters\n",
    "imputer_object = Imputer(missing_values='NaN', strategy='mean', axis=0, copy=False)"
   ]
  },
  {
   "cell_type": "code",
   "execution_count": 81,
   "metadata": {
    "collapsed": false
   },
   "outputs": [],
   "source": [
    "user_data_imputed_np_array = imputer_object.fit_transform(user_data_to_impute)"
   ]
  },
  {
   "cell_type": "code",
   "execution_count": 67,
   "metadata": {
    "collapsed": false
   },
   "outputs": [
    {
     "data": {
      "text/plain": [
       "DescribeResult(nobs=372, minmax=(array([ 1.,  1.,  1.]), array([  78.,  260.,  229.])), mean=array([ 12.07246377,  17.76923077,  29.57692308]), variance=array([  34.36829564,  366.74434999,  458.84916027]), skewness=array([ 5.86878165,  8.3052548 ,  5.28895823]), kurtosis=array([ 55.50017875,  86.17598001,  38.76391529]))"
      ]
     },
     "execution_count": 67,
     "metadata": {},
     "output_type": "execute_result"
    }
   ],
   "source": [
    "sp.stats.describe(user_data_imputed_np_array)"
   ]
  },
  {
   "cell_type": "markdown",
   "metadata": {},
   "source": [
    "#### the *user_data_imputed_np_array* is a NumPy array, we need to convert it back to Pandas data frame"
   ]
  },
  {
   "cell_type": "code",
   "execution_count": null,
   "metadata": {
    "collapsed": true
   },
   "outputs": [],
   "source": []
  },
  {
   "cell_type": "markdown",
   "metadata": {},
   "source": [
    "### Now lets add back the useful colums that we had removed from data set, these are\n",
    "* *last_activity*\n",
    "* *first_login*\n",
    "* *age_on_platform*\n",
    "* *watching_videos*"
   ]
  },
  {
   "cell_type": "markdown",
   "metadata": {},
   "source": [
    "# Labelling the Raw data"
   ]
  },
  {
   "cell_type": "markdown",
   "metadata": {},
   "source": [
    "Now comes the code that will based on the rules mentioned below label the provided data, so it can be used as trainning data for the classifer."
   ]
  },
  {
   "cell_type": "markdown",
   "metadata": {},
   "source": [
    "This tables defines the set of rules used to assign labels for Traning data"
   ]
  },
  {
   "cell_type": "markdown",
   "metadata": {},
   "source": [
    "| label               | age_on_platform      | last_activity             | num_modules_comsumed        | num_of_days_food_tracked | num_glucose_tracked         | watching_videos  |\n",
    "|---------------------|----------------------|---------------------------|-----------------------------|--------------------------|-----------------------------|------------------|\n",
    "| Generic (ignore)    | Converted to days    | to be Measured from 16Apr | Good >= 3/week Bad < 3/week | Good >= 30 Bad < 30      | Good >= 4/week Bad < 4/week | Good = 1 Bad = 0 |\n",
    "| good_new_user       | >= 30 days && < 180  | <= 2 days                 | >= 12                       | >= 20                    | >= 16                       | Good = 1         |\n",
    "| bad_new_user        | >= 30 days && < 180  | > 2 days                  | < 12                        | < 20                     | < 16                        | Bad = 0          |\n",
    "| good_mid_term_user  | >= 180 days && < 360 | <= 7 days                 | >= 48                       | >= 30                    | >= 96                       | Good = 1         |\n",
    "| bad_mid_term_user   | >= 180 days && <360  | > 7 days                  | < 48                        | < 30                     | < 96                        | Bad = 0          |\n",
    "| good_long_term_user | >= 360 days          | <= 14 days                | >= 48                       | >= 30                    | >= 192                      | Good = 1         |\n",
    "| bad_long_term_user  | >= 360 days          | > 14 days                 | < 48                        | < 30                     | < 192                       | Bad = 0          |"
   ]
  },
  {
   "cell_type": "code",
   "execution_count": null,
   "metadata": {
    "collapsed": false
   },
   "outputs": [],
   "source": [
    "one_month = 30\n",
    "#one_month = one_month.astype(int)\n",
    "six_month = 180"
   ]
  },
  {
   "cell_type": "markdown",
   "metadata": {},
   "source": [
    "## There are empty rows in *last_activity* and *first_login* !! Correct that first "
   ]
  },
  {
   "cell_type": "code",
   "execution_count": null,
   "metadata": {
    "collapsed": false,
    "scrolled": true
   },
   "outputs": [],
   "source": [
    "for index, row in user_data.iterrows():\n",
    "    if (row[\"age_on_platform\"] / np.timedelta64(1, 'D')).astype(int) >= one_month and (row[\"age_on_platform\"] / np.timedelta64(1, 'D')).astype(int) < six_month:\n",
    "        row[\"label\"] = 1\n",
    "    elif ((row[\"age_on_platform\"] / np.timedelta64(1, 'D')).astype(int)) >=180  and ((row[\"age_on_platform\"] / np.timedelta64(1, 'D')).astype(int))< 360:\n",
    "        row[\"label\"] = 3\n",
    "    elif ((row[\"age_on_platform\"] / np.timedelta64(1, 'D')).astype(int))>= 360:\n",
    "        row[\"label\"] = 5\n",
    "        \n",
    "    "
   ]
  },
  {
   "cell_type": "code",
   "execution_count": null,
   "metadata": {
    "collapsed": false
   },
   "outputs": [],
   "source": [
    "for index, row in user_data.iterrows():\n",
    "    if row[\"age_on_platform\"] >= np.timedelta64(30, 'D') and row[\"age_on_platform\"] < np.timedelta64(180, 'D'):\n",
    "        row[\"label\"] = 1\n",
    "    elif ((row[\"age_on_platform\"] / np.timedelta64(1, 'D')).astype(int)) >=180  and ((row[\"age_on_platform\"] / np.timedelta64(1, 'D')).astype(int))< 360:\n",
    "        row[\"label\"] = 3\n",
    "    elif ((row[\"age_on_platform\"] / np.timedelta64(1, 'D')).astype(int))>= 360:\n",
    "        row[\"label\"] = 5\n",
    "        \n",
    "    "
   ]
  },
  {
   "cell_type": "code",
   "execution_count": null,
   "metadata": {
    "collapsed": false
   },
   "outputs": [],
   "source": [
    "(user_data[\"age_on_platform\"].head(1) / np.timedelta64(1, 'D')).astype(int)"
   ]
  },
  {
   "cell_type": "code",
   "execution_count": null,
   "metadata": {
    "collapsed": false
   },
   "outputs": [],
   "source": [
    "np.timedelta64('180', 'D')"
   ]
  },
  {
   "cell_type": "code",
   "execution_count": null,
   "metadata": {
    "collapsed": true
   },
   "outputs": [],
   "source": []
  }
 ],
 "metadata": {
  "kernelspec": {
   "display_name": "Python 2",
   "language": "python",
   "name": "python2"
  },
  "language_info": {
   "codemirror_mode": {
    "name": "ipython",
    "version": 2
   },
   "file_extension": ".py",
   "mimetype": "text/x-python",
   "name": "python",
   "nbconvert_exporter": "python",
   "pygments_lexer": "ipython2",
   "version": "2.7.9"
  }
 },
 "nbformat": 4,
 "nbformat_minor": 0
}
