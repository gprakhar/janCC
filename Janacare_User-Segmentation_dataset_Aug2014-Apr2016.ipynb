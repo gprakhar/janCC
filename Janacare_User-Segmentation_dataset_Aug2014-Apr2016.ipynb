{
 "cells": [
  {
   "cell_type": "markdown",
   "metadata": {},
   "source": [
    "Hello World!\n",
    "This notebook describes the decision tree based Machine Learning model I have created\n",
    "to segment the users of Habits app."
   ]
  },
  {
   "cell_type": "markdown",
   "metadata": {},
   "source": [
    "# Looking around the data set and getting all colums in required format"
   ]
  },
  {
   "cell_type": "code",
   "execution_count": 80,
   "metadata": {
    "collapsed": true
   },
   "outputs": [],
   "source": [
    "# Import the required modules\n",
    "import pandas as pd\n",
    "import numpy as np\n",
    "import scipy as sp"
   ]
  },
  {
   "cell_type": "code",
   "execution_count": 81,
   "metadata": {
    "collapsed": false
   },
   "outputs": [],
   "source": [
    "# simple function to read in the user data file.\n",
    "# the argument parse_dates takes in a list of colums, which are to be parsed as date format\n",
    "user_data_raw = pd.read_csv(\"janacare_user-engagement_Aug2014-Apr2016.csv\", parse_dates = [-3,-2,-1])"
   ]
  },
  {
   "cell_type": "code",
   "execution_count": 82,
   "metadata": {
    "collapsed": false
   },
   "outputs": [
    {
     "data": {
      "text/plain": [
       "(372, 19)"
      ]
     },
     "execution_count": 82,
     "metadata": {},
     "output_type": "execute_result"
    }
   ],
   "source": [
    "# data metrics\n",
    "user_data_raw.shape # Rows , colums"
   ]
  },
  {
   "cell_type": "code",
   "execution_count": 83,
   "metadata": {
    "collapsed": false
   },
   "outputs": [
    {
     "data": {
      "text/plain": [
       "user_id                                                        float64\n",
       "num_modules_consumed                                           float64\n",
       "num_glucose_tracked                                            float64\n",
       "num_of_days_steps_tracked                                      float64\n",
       "num_of_days_food_tracked                                       float64\n",
       "num_of_days_weight_tracked                                     float64\n",
       "insulin_a1c_count                                              float64\n",
       "cholesterol_count                                              float64\n",
       "hemoglobin_count                                               float64\n",
       "watching_videos (binary - 1 for yes, blank/0 for no)           float64\n",
       "weight                                                         float64\n",
       "height                                                           int64\n",
       "bmi                                                              int64\n",
       "age                                                              int64\n",
       "gender                                                          object\n",
       "has_diabetes                                                   float64\n",
       "first_login                                             datetime64[ns]\n",
       "last_activity                                           datetime64[ns]\n",
       "age_on_platform                                                 object\n",
       "dtype: object"
      ]
     },
     "execution_count": 83,
     "metadata": {},
     "output_type": "execute_result"
    }
   ],
   "source": [
    "# data metrics\n",
    "user_data_raw.dtypes # data type of colums"
   ]
  },
  {
   "cell_type": "markdown",
   "metadata": {},
   "source": [
    "As is visible from the last column data type, Pandas is not recognising it as date type format. \n",
    "This will make things difficult, so I delete this particular column and add a new one.\n",
    "Since the data in *age_on_platform* can be recreated from *last_activity* & *first_login* colums"
   ]
  },
  {
   "cell_type": "code",
   "execution_count": 84,
   "metadata": {
    "collapsed": true
   },
   "outputs": [],
   "source": [
    "# drop last column\n",
    "user_data_del_last_col = user_data_raw.drop(\"age_on_platform\", 1)"
   ]
  },
  {
   "cell_type": "code",
   "execution_count": 85,
   "metadata": {
    "collapsed": false
   },
   "outputs": [
    {
     "data": {
      "text/plain": [
       "(372, 18)"
      ]
     },
     "execution_count": 85,
     "metadata": {},
     "output_type": "execute_result"
    }
   ],
   "source": [
    "# Check if colums has been deleted. Number of column changed from 19 to 18\n",
    "user_data_del_last_col.shape"
   ]
  },
  {
   "cell_type": "code",
   "execution_count": 86,
   "metadata": {
    "collapsed": true
   },
   "outputs": [],
   "source": [
    "# Copy data frame 'user_data_del_last_col' into a new one\n",
    "user_data = user_data_del_last_col"
   ]
  },
  {
   "cell_type": "code",
   "execution_count": 87,
   "metadata": {
    "collapsed": true
   },
   "outputs": [],
   "source": [
    "# Create new column 'age_on_platform' which has the corresponding value in date type format\n",
    "user_data[\"age_on_platform\"] = user_data_del_last_col[\"last_activity\"]-user_data_del_last_col[\"first_login\"]"
   ]
  },
  {
   "cell_type": "code",
   "execution_count": 88,
   "metadata": {
    "collapsed": false
   },
   "outputs": [
    {
     "data": {
      "text/plain": [
       "0   151 days\n",
       "1   129 days\n",
       "2   211 days\n",
       "3   235 days\n",
       "4     3 days\n",
       "Name: age_on_platform, dtype: timedelta64[ns]"
      ]
     },
     "execution_count": 88,
     "metadata": {},
     "output_type": "execute_result"
    }
   ],
   "source": [
    "# Check the result in first few rows\n",
    "user_data[\"age_on_platform\"].head(5)"
   ]
  },
  {
   "cell_type": "markdown",
   "metadata": {},
   "source": [
    "#### The column name *watching_videos (binary - 1 for yes, blank/0 for no)* is too long and has special chars, lets change it to *watching_videos*"
   ]
  },
  {
   "cell_type": "code",
   "execution_count": 89,
   "metadata": {
    "collapsed": true
   },
   "outputs": [],
   "source": [
    "user_data = user_data.rename(columns = {'watching_videos (binary - 1 for yes, blank/0 for no)':'watching_videos'})"
   ]
  },
  {
   "cell_type": "code",
   "execution_count": null,
   "metadata": {
    "collapsed": false
   },
   "outputs": [],
   "source": [
    "# Some basic statistical information on the data\n",
    "user_data.describe()"
   ]
  },
  {
   "cell_type": "markdown",
   "metadata": {},
   "source": [
    "# Data Clean up"
   ]
  },
  {
   "cell_type": "markdown",
   "metadata": {},
   "source": [
    "In the last section of looking around, I saw that a lot of rows do not have any values or have garbage values(see first row of the table above).\n",
    "This can cause errors when computing anything using the values in these rows, hence a clean up is required."
   ]
  },
  {
   "cell_type": "markdown",
   "metadata": {},
   "source": [
    "We will clean up only those columns, that are being used for features.\n",
    "\n",
    "* **num_modules_consumed**\n",
    "* **num_glucose_tracked**\n",
    "* **num_of_days_food_tracked**\n",
    "* **watching_videos**\n",
    "\n",
    "The next two colums will not be cleaned, as they contain time data which in my opinion should not be imputed\n",
    "* **first_login**\n",
    "* **last_activity**"
   ]
  },
  {
   "cell_type": "code",
   "execution_count": null,
   "metadata": {
    "collapsed": false,
    "scrolled": true
   },
   "outputs": [],
   "source": [
    "# Lets check the health of the data set\n",
    "user_data.info()"
   ]
  },
  {
   "cell_type": "markdown",
   "metadata": {},
   "source": [
    "The second column of the above table describes, the number of non-null values in the respective column.\n",
    "As is visible for the columns of interest for us,\n",
    "eg. *num_modules_consumed* has ONLY 69 values out of possible 371 total"
   ]
  },
  {
   "cell_type": "code",
   "execution_count": 90,
   "metadata": {
    "collapsed": false
   },
   "outputs": [],
   "source": [
    "# Lets remove all columns from the data set that do not have to be imputed - \n",
    "user_data_to_impute = user_data.drop([\"user_id\", \"watching_videos\", \"num_of_days_steps_tracked\", \"num_of_days_weight_tracked\", \"insulin_a1c_count\", \"weight\", \"height\", \"bmi\", \"age\", \"gender\", \"has_diabetes\", \"first_login\", \"last_activity\", \"age_on_platform\", \"hemoglobin_count\", \"cholesterol_count\"], 1 )"
   ]
  },
  {
   "cell_type": "code",
   "execution_count": null,
   "metadata": {
    "collapsed": false
   },
   "outputs": [],
   "source": [
    "user_data_to_impute.info()"
   ]
  },
  {
   "cell_type": "markdown",
   "metadata": {},
   "source": [
    "### The next 3 cells describes the steps to Impute data using KNN strategy, sadly this is not working well for our data set! One possible reason could be that the column is too sparse to find a neighbourer !"
   ]
  },
  {
   "cell_type": "code",
   "execution_count": null,
   "metadata": {
    "collapsed": false
   },
   "outputs": [],
   "source": [
    "# Import Imputation method KNN\n",
    "from fancyimpute import KNN"
   ]
  },
  {
   "cell_type": "code",
   "execution_count": null,
   "metadata": {
    "collapsed": true
   },
   "outputs": [],
   "source": [
    "# First lets convert the Pandas Dataframe into a Numpy array. We do this since the data frame needs to be transposed,\n",
    "# which is only possible if the format is an Numpy array.\n",
    "user_data_to_impute_np_array = user_data_to_impute.as_matrix()\n",
    "# Lets Transpose it\n",
    "user_data_to_impute_np_array_transposed = user_data_to_impute_np_array.T"
   ]
  },
  {
   "cell_type": "code",
   "execution_count": null,
   "metadata": {
    "collapsed": false,
    "scrolled": true
   },
   "outputs": [],
   "source": [
    "# usage X_filled_knn = KNN(k=3).complete(X_incomplete)\n",
    "user_data_imputed_knn_np_array = KNN(k=5).complete(user_data_to_impute_np_array_transposed)"
   ]
  },
  {
   "cell_type": "markdown",
   "metadata": {},
   "source": [
    "### The above 3 steps are for KNN based Imputation, did not work well. As visible 804 items could not be imputed for and get replaced with zero"
   ]
  },
  {
   "cell_type": "code",
   "execution_count": 91,
   "metadata": {
    "collapsed": false
   },
   "outputs": [],
   "source": [
    "# Lets use simpler method that is provided by Scikit Learn itself\n",
    "# import the function\n",
    "from sklearn.preprocessing import Imputer"
   ]
  },
  {
   "cell_type": "code",
   "execution_count": 92,
   "metadata": {
    "collapsed": true
   },
   "outputs": [],
   "source": [
    "# Create an object of class Imputer, with the relvant parameters\n",
    "imputer_object = Imputer(missing_values='NaN', strategy='mean', axis=0, copy=False)"
   ]
  },
  {
   "cell_type": "code",
   "execution_count": 93,
   "metadata": {
    "collapsed": false
   },
   "outputs": [],
   "source": [
    "# Impute the data and save the generated Numpy array\n",
    "user_data_imputed_np_array = imputer_object.fit_transform(user_data_to_impute)"
   ]
  },
  {
   "cell_type": "markdown",
   "metadata": {},
   "source": [
    "#### the *user_data_imputed_np_array* is a NumPy array, we need to convert it back to Pandas data frame"
   ]
  },
  {
   "cell_type": "code",
   "execution_count": 94,
   "metadata": {
    "collapsed": false
   },
   "outputs": [
    {
     "name": "stdout",
     "output_type": "stream",
     "text": [
      "<class 'pandas.core.frame.DataFrame'>\n",
      "RangeIndex: 372 entries, 0 to 371\n",
      "Data columns (total 3 columns):\n",
      "num_modules_consumed        372 non-null float64\n",
      "num_glucose_tracked         372 non-null float64\n",
      "num_of_days_food_tracked    372 non-null float64\n",
      "dtypes: float64(3)\n",
      "memory usage: 8.8 KB\n"
     ]
    }
   ],
   "source": [
    "# create a list of tuples, with the column name and data type for all existing columns in the Numpy array.\n",
    "# exact order of columns has to be maintained\n",
    "column_names_of_imputed_np_array = ['num_modules_consumed', 'num_glucose_tracked', 'num_of_days_food_tracked']\n",
    "# create the Pandas data frame from the Numpy array\n",
    "user_data_imputed_data_frame = pd.DataFrame(user_data_imputed_np_array, columns=column_names_of_imputed_np_array)\n",
    "# Check if the data frame created now is proper\n",
    "user_data_imputed_data_frame.info()"
   ]
  },
  {
   "cell_type": "markdown",
   "metadata": {},
   "source": [
    "### Now lets add back the useful colums that we had removed from data set, these are\n",
    "* *last_activity*\n",
    "* *first_login*\n",
    "* *age_on_platform*\n",
    "* *watching_videos*"
   ]
  },
  {
   "cell_type": "code",
   "execution_count": 95,
   "metadata": {
    "collapsed": false
   },
   "outputs": [
    {
     "name": "stdout",
     "output_type": "stream",
     "text": [
      "<class 'pandas.core.frame.DataFrame'>\n",
      "RangeIndex: 372 entries, 0 to 371\n",
      "Data columns (total 6 columns):\n",
      "num_modules_consumed        372 non-null float64\n",
      "num_glucose_tracked         372 non-null float64\n",
      "num_of_days_food_tracked    372 non-null float64\n",
      "first_login                 372 non-null datetime64[ns]\n",
      "last_activity               302 non-null datetime64[ns]\n",
      "age_on_platform             302 non-null timedelta64[ns]\n",
      "dtypes: datetime64[ns](2), float64(3), timedelta64[ns](1)\n",
      "memory usage: 17.5 KB\n"
     ]
    }
   ],
   "source": [
    "# using the Series contructor from Pandas\n",
    "user_data_imputed_data_frame['first_login'] = pd.Series(user_data['first_login'])\n",
    "user_data_imputed_data_frame['last_activity'] = pd.Series(user_data['last_activity'])\n",
    "user_data_imputed_data_frame['age_on_platform'] = pd.Series(user_data['age_on_platform'])\n",
    "# Check if every thing is Ok\n",
    "user_data_imputed_data_frame.info()"
   ]
  },
  {
   "cell_type": "markdown",
   "metadata": {},
   "source": [
    "#### As mentioned in column description for *watching_videos* a blank or no value, means '0' also know as 'Not watching'\n",
    "#### Since Scikit Learn models can ONLY deal with numerical values, lets convert all blanks to '0'"
   ]
  },
  {
   "cell_type": "code",
   "execution_count": 96,
   "metadata": {
    "collapsed": false
   },
   "outputs": [
    {
     "name": "stdout",
     "output_type": "stream",
     "text": [
      "<class 'pandas.core.frame.DataFrame'>\n",
      "RangeIndex: 372 entries, 0 to 371\n",
      "Data columns (total 7 columns):\n",
      "num_modules_consumed        372 non-null float64\n",
      "num_glucose_tracked         372 non-null float64\n",
      "num_of_days_food_tracked    372 non-null float64\n",
      "first_login                 372 non-null datetime64[ns]\n",
      "last_activity               302 non-null datetime64[ns]\n",
      "age_on_platform             302 non-null timedelta64[ns]\n",
      "watching_videos             372 non-null float64\n",
      "dtypes: datetime64[ns](2), float64(4), timedelta64[ns](1)\n",
      "memory usage: 20.4 KB\n"
     ]
    }
   ],
   "source": [
    "user_data_imputed_data_frame['watching_videos'] = pd.Series(user_data['watching_videos'].fillna(0))\n",
    "user_data_imputed_data_frame.info()"
   ]
  },
  {
   "cell_type": "markdown",
   "metadata": {},
   "source": [
    "### Finally the columns *first_login*, *last_activity*, *age_on_platform* have missing values, as evident from above table. Since this is time data, that in my opinion should not be imputed, we will drop/delete the columns."
   ]
  },
  {
   "cell_type": "code",
   "execution_count": 97,
   "metadata": {
    "collapsed": false
   },
   "outputs": [
    {
     "name": "stdout",
     "output_type": "stream",
     "text": [
      "<class 'pandas.core.frame.DataFrame'>\n",
      "Int64Index: 302 entries, 0 to 370\n",
      "Data columns (total 7 columns):\n",
      "num_modules_consumed        302 non-null float64\n",
      "num_glucose_tracked         302 non-null float64\n",
      "num_of_days_food_tracked    302 non-null float64\n",
      "first_login                 302 non-null datetime64[ns]\n",
      "last_activity               302 non-null datetime64[ns]\n",
      "age_on_platform             302 non-null timedelta64[ns]\n",
      "watching_videos             302 non-null float64\n",
      "dtypes: datetime64[ns](2), float64(4), timedelta64[ns](1)\n",
      "memory usage: 18.9 KB\n"
     ]
    }
   ],
   "source": [
    "# Since only these three columns are having null values, we can run the function *dropna()* on the whole data frame\n",
    "user_data_imputed_data_frame.dropna(axis=0, inplace=True)\n",
    "user_data_imputed_data_frame.info()"
   ]
  },
  {
   "cell_type": "markdown",
   "metadata": {},
   "source": [
    "# Labelling the Raw data"
   ]
  },
  {
   "cell_type": "markdown",
   "metadata": {},
   "source": [
    "Now comes the code that will based on the rules mentioned below label the provided data, so it can be used as trainning data for the classifer."
   ]
  },
  {
   "cell_type": "markdown",
   "metadata": {},
   "source": [
    "This tables defines the set of rules used to assign labels for Traning data"
   ]
  },
  {
   "cell_type": "markdown",
   "metadata": {},
   "source": [
    "| label               | age_on_platform      | last_activity             | num_modules_comsumed        | num_of_days_food_tracked | num_glucose_tracked         | watching_videos  |\n",
    "|---------------------|----------------------|---------------------------|-----------------------------|--------------------------|-----------------------------|------------------|\n",
    "| Generic (ignore)    | Converted to days    | to be Measured from 16Apr | Good >= 3/week Bad < 3/week | Good >= 30 Bad < 30      | Good >= 4/week Bad < 4/week | Good = 1 Bad = 0 |\n",
    "| good_new_user       | >= 30 days && < 180  | <= 2 days                 | >= 12                       | >= 20                    | >= 16                       | Good = 1         |\n",
    "| bad_new_user        | >= 30 days && < 180  | > 2 days                  | < 12                        | < 20                     | < 16                        | Bad = 0          |\n",
    "| good_mid_term_user  | >= 180 days && < 360 | <= 7 days                 | >= 48                       | >= 30                    | >= 96                       | Good = 1         |\n",
    "| bad_mid_term_user   | >= 180 days && <360  | > 7 days                  | < 48                        | < 30                     | < 96                        | Bad = 0          |\n",
    "| good_long_term_user | >= 360 days          | <= 14 days                | >= 48                       | >= 30                    | >= 192                      | Good = 1         |\n",
    "| bad_long_term_user  | >= 360 days          | > 14 days                 | < 48                        | < 30                     | < 192                       | Bad = 0          |"
   ]
  },
  {
   "cell_type": "code",
   "execution_count": 99,
   "metadata": {
    "collapsed": false
   },
   "outputs": [],
   "source": [
    "one_month = 30\n",
    "#one_month = one_month.astype(int)\n",
    "six_month = 180"
   ]
  },
  {
   "cell_type": "code",
   "execution_count": 105,
   "metadata": {
    "collapsed": false,
    "scrolled": true
   },
   "outputs": [
    {
     "name": "stdout",
     "output_type": "stream",
     "text": [
      "<class 'pandas.core.frame.DataFrame'>\n",
      "Int64Index: 302 entries, 0 to 370\n",
      "Data columns (total 8 columns):\n",
      "num_modules_consumed        302 non-null float64\n",
      "num_glucose_tracked         302 non-null float64\n",
      "num_of_days_food_tracked    302 non-null float64\n",
      "first_login                 302 non-null datetime64[ns]\n",
      "last_activity               302 non-null datetime64[ns]\n",
      "age_on_platform             302 non-null timedelta64[ns]\n",
      "watching_videos             302 non-null float64\n",
      "label                       302 non-null int64\n",
      "dtypes: datetime64[ns](2), float64(4), int64(1), timedelta64[ns](1)\n",
      "memory usage: 21.2 KB\n"
     ]
    },
    {
     "data": {
      "text/html": [
       "<div>\n",
       "<table border=\"1\" class=\"dataframe\">\n",
       "  <thead>\n",
       "    <tr style=\"text-align: right;\">\n",
       "      <th></th>\n",
       "      <th>num_modules_consumed</th>\n",
       "      <th>num_glucose_tracked</th>\n",
       "      <th>num_of_days_food_tracked</th>\n",
       "      <th>age_on_platform</th>\n",
       "      <th>watching_videos</th>\n",
       "      <th>label</th>\n",
       "    </tr>\n",
       "  </thead>\n",
       "  <tbody>\n",
       "    <tr>\n",
       "      <th>count</th>\n",
       "      <td>302.000000</td>\n",
       "      <td>302.000000</td>\n",
       "      <td>302.000000</td>\n",
       "      <td>302</td>\n",
       "      <td>302.000000</td>\n",
       "      <td>302.0</td>\n",
       "    </tr>\n",
       "    <tr>\n",
       "      <th>mean</th>\n",
       "      <td>12.072464</td>\n",
       "      <td>17.824758</td>\n",
       "      <td>29.576923</td>\n",
       "      <td>142 days 21:32:11.125827</td>\n",
       "      <td>0.321192</td>\n",
       "      <td>3.0</td>\n",
       "    </tr>\n",
       "    <tr>\n",
       "      <th>std</th>\n",
       "      <td>6.508527</td>\n",
       "      <td>21.239030</td>\n",
       "      <td>23.781469</td>\n",
       "      <td>168 days 20:03:46.790780</td>\n",
       "      <td>0.467709</td>\n",
       "      <td>0.0</td>\n",
       "    </tr>\n",
       "    <tr>\n",
       "      <th>min</th>\n",
       "      <td>1.000000</td>\n",
       "      <td>1.000000</td>\n",
       "      <td>1.000000</td>\n",
       "      <td>-300 days +00:00:00</td>\n",
       "      <td>0.000000</td>\n",
       "      <td>3.0</td>\n",
       "    </tr>\n",
       "    <tr>\n",
       "      <th>25%</th>\n",
       "      <td>12.072464</td>\n",
       "      <td>17.769231</td>\n",
       "      <td>29.576923</td>\n",
       "      <td>28 days 00:00:00</td>\n",
       "      <td>0.000000</td>\n",
       "      <td>3.0</td>\n",
       "    </tr>\n",
       "    <tr>\n",
       "      <th>50%</th>\n",
       "      <td>12.072464</td>\n",
       "      <td>17.769231</td>\n",
       "      <td>29.576923</td>\n",
       "      <td>108 days 00:00:00</td>\n",
       "      <td>0.000000</td>\n",
       "      <td>3.0</td>\n",
       "    </tr>\n",
       "    <tr>\n",
       "      <th>75%</th>\n",
       "      <td>12.072464</td>\n",
       "      <td>17.769231</td>\n",
       "      <td>29.576923</td>\n",
       "      <td>234 days 12:00:00</td>\n",
       "      <td>1.000000</td>\n",
       "      <td>3.0</td>\n",
       "    </tr>\n",
       "    <tr>\n",
       "      <th>max</th>\n",
       "      <td>78.000000</td>\n",
       "      <td>260.000000</td>\n",
       "      <td>229.000000</td>\n",
       "      <td>667 days 00:00:00</td>\n",
       "      <td>1.000000</td>\n",
       "      <td>3.0</td>\n",
       "    </tr>\n",
       "  </tbody>\n",
       "</table>\n",
       "</div>"
      ],
      "text/plain": [
       "       num_modules_consumed  num_glucose_tracked  num_of_days_food_tracked  \\\n",
       "count            302.000000           302.000000                302.000000   \n",
       "mean              12.072464            17.824758                 29.576923   \n",
       "std                6.508527            21.239030                 23.781469   \n",
       "min                1.000000             1.000000                  1.000000   \n",
       "25%               12.072464            17.769231                 29.576923   \n",
       "50%               12.072464            17.769231                 29.576923   \n",
       "75%               12.072464            17.769231                 29.576923   \n",
       "max               78.000000           260.000000                229.000000   \n",
       "\n",
       "                age_on_platform  watching_videos  label  \n",
       "count                       302       302.000000  302.0  \n",
       "mean   142 days 21:32:11.125827         0.321192    3.0  \n",
       "std    168 days 20:03:46.790780         0.467709    0.0  \n",
       "min         -300 days +00:00:00         0.000000    3.0  \n",
       "25%            28 days 00:00:00         0.000000    3.0  \n",
       "50%           108 days 00:00:00         0.000000    3.0  \n",
       "75%           234 days 12:00:00         1.000000    3.0  \n",
       "max           667 days 00:00:00         1.000000    3.0  "
      ]
     },
     "execution_count": 105,
     "metadata": {},
     "output_type": "execute_result"
    }
   ],
   "source": [
    "for index, row in user_data_imputed_data_frame.iterrows():\n",
    "    if (row[\"age_on_platform\"] / np.timedelta64(1, 'D')).astype(int) >= one_month and (row[\"age_on_platform\"] / np.timedelta64(1, 'D')).astype(int) < six_month:\n",
    "        user_data_imputed_data_frame[\"label\"] = 1\n",
    "    elif ((row[\"age_on_platform\"] / np.timedelta64(1, 'D')).astype(int)) >=180  and ((row[\"age_on_platform\"] / np.timedelta64(1, 'D')).astype(int))< 360:\n",
    "        user_data_imputed_data_frame[\"label\"] = 3\n",
    "    elif ((row[\"age_on_platform\"] / np.timedelta64(1, 'D')).astype(int))>= 360:\n",
    "        user_data_imputed_data_frame[\"label\"] = 5\n",
    "    else:\n",
    "        row[\"label\"] = 0\n",
    "user_data_imputed_data_frame.info()\n",
    "user_data_imputed_data_frame.describe()"
   ]
  },
  {
   "cell_type": "code",
   "execution_count": 103,
   "metadata": {
    "collapsed": false
   },
   "outputs": [],
   "source": [
    "for index, row in user_data_imputed_data_frame.iterrows():\n",
    "    if row[\"age_on_platform\"] >= np.timedelta64(30, 'D') and row[\"age_on_platform\"] < np.timedelta64(180, 'D'):\n",
    "        user_data_imputed_data_frame[\"label\"] = 1\n",
    "    elif ((row[\"age_on_platform\"] / np.timedelta64(1, 'D')).astype(int)) >=180  and ((row[\"age_on_platform\"] / np.timedelta64(1, 'D')).astype(int))< 360:\n",
    "        user_data_imputed_data_frame[\"label\"] = 3\n",
    "    elif ((row[\"age_on_platform\"] / np.timedelta64(1, 'D')).astype(int))>= 360:\n",
    "        user_data_imputed_data_frame[\"label\"] = 5\n",
    "        \n",
    "    "
   ]
  }
 ],
 "metadata": {
  "kernelspec": {
   "display_name": "Python 2",
   "language": "python",
   "name": "python2"
  },
  "language_info": {
   "codemirror_mode": {
    "name": "ipython",
    "version": 2
   },
   "file_extension": ".py",
   "mimetype": "text/x-python",
   "name": "python",
   "nbconvert_exporter": "python",
   "pygments_lexer": "ipython2",
   "version": "2.7.11"
  }
 },
 "nbformat": 4,
 "nbformat_minor": 0
}
