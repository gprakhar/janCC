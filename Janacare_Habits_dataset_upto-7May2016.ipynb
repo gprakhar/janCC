{
 "cells": [
  {
   "cell_type": "markdown",
   "metadata": {},
   "source": [
    "Hello World!\n",
    "This notebook describes the effort to cleanup and cluster a Habits dataset."
   ]
  },
  {
   "cell_type": "markdown",
   "metadata": {},
   "source": [
    "de-duplicate : 1. user i'd\n",
    "               2. email i'd (prefer most recent, according to Age-on-platform\n",
    "               3.\n",
    "\n",
    "\n",
    "Clustering the Data:\n",
    "two methods - \n",
    "\n",
    "A) cluster the data  and see how many clusters are there\n",
    "\n",
    "\n",
    "B) three bins : \"signed up not used\", \"completed not beyond 1 week\", \"everyone else\""
   ]
  },
  {
   "cell_type": "markdown",
   "metadata": {},
   "source": [
    "# Looking around the data set"
   ]
  },
  {
   "cell_type": "code",
   "execution_count": 132,
   "metadata": {
    "collapsed": false
   },
   "outputs": [
    {
     "name": "stdout",
     "output_type": "stream",
     "text": [
      "Once deleted, variables cannot be recovered. Proceed (y/[n])? y\n"
     ]
    }
   ],
   "source": [
    "%reset"
   ]
  },
  {
   "cell_type": "code",
   "execution_count": 133,
   "metadata": {
    "collapsed": true
   },
   "outputs": [],
   "source": [
    "# Import the required modules\n",
    "import pandas as pd\n",
    "import numpy as np\n",
    "import scipy as sp"
   ]
  },
  {
   "cell_type": "code",
   "execution_count": 134,
   "metadata": {
    "collapsed": false
   },
   "outputs": [],
   "source": [
    "# simple function to read in the user data file.\n",
    "# the argument parse_dates takes in a list of colums, which are to be parsed as date format\n",
    "user_data_raw_csv = pd.read_csv(\"/home/eyebell/local_bin/janacare/janCC/datasets/Habits-Data_upto-7th-May.csv\",\\\n",
    "                            parse_dates = [-3, -2, -1])"
   ]
  },
  {
   "cell_type": "code",
   "execution_count": 135,
   "metadata": {
    "collapsed": false
   },
   "outputs": [],
   "source": [
    "# import the pyexcel module\n",
    "#import pyexcel as pe\n",
    "#from pyexcel.ext import xls\n",
    "\n",
    "# load the file\n",
    "#records = pe.get_records(file_name=\"/home/eyebell/local_bin/janacare/datasets/Habits-Data_upto-7th-May.xls\")\n",
    "#len(records)\n",
    "#for record in records:\n",
    "    #print record"
   ]
  },
  {
   "cell_type": "code",
   "execution_count": 136,
   "metadata": {
    "collapsed": false
   },
   "outputs": [
    {
     "data": {
      "text/plain": [
       "(53239, 9)"
      ]
     },
     "execution_count": 136,
     "metadata": {},
     "output_type": "execute_result"
    }
   ],
   "source": [
    "# data metrics\n",
    "user_data_raw_csv.shape # Rows , colums\n"
   ]
  },
  {
   "cell_type": "code",
   "execution_count": 137,
   "metadata": {
    "collapsed": false
   },
   "outputs": [
    {
     "data": {
      "text/plain": [
       "user_id                   int64\n",
       "first_name               object\n",
       "last_name                object\n",
       "username                 object\n",
       "email                    object\n",
       "phone_number             object\n",
       "date_joined      datetime64[ns]\n",
       "first_login      datetime64[ns]\n",
       "last_activity    datetime64[ns]\n",
       "dtype: object"
      ]
     },
     "execution_count": 137,
     "metadata": {},
     "output_type": "execute_result"
    }
   ],
   "source": [
    "# data metrics\n",
    "user_data_raw_csv.dtypes # data type of colums"
   ]
  },
  {
   "cell_type": "code",
   "execution_count": 138,
   "metadata": {
    "collapsed": true
   },
   "outputs": [],
   "source": [
    "user_data_to_clean = user_data_raw_csv"
   ]
  },
  {
   "cell_type": "code",
   "execution_count": 139,
   "metadata": {
    "collapsed": false
   },
   "outputs": [],
   "source": [
    "# Some basic statistical information on the data\n",
    "#user_data_to_clean.describe()"
   ]
  },
  {
   "cell_type": "markdown",
   "metadata": {},
   "source": [
    "# Data Clean up"
   ]
  },
  {
   "cell_type": "markdown",
   "metadata": {},
   "source": [
    "In the last section of looking around, I saw that a lot of rows do not have any values or have garbage values(see first row of the table above).\n",
    "This can cause errors when computing anything using the values in these rows, hence a clean up is required."
   ]
  },
  {
   "cell_type": "markdown",
   "metadata": {},
   "source": [
    "If a the coulums *last_activity* and *first_login* are empty then drop the corresponding row !"
   ]
  },
  {
   "cell_type": "code",
   "execution_count": 140,
   "metadata": {
    "collapsed": false,
    "scrolled": true
   },
   "outputs": [
    {
     "name": "stdout",
     "output_type": "stream",
     "text": [
      "<class 'pandas.core.frame.DataFrame'>\n",
      "RangeIndex: 53239 entries, 0 to 53238\n",
      "Data columns (total 9 columns):\n",
      "user_id          53239 non-null int64\n",
      "first_name       53108 non-null object\n",
      "last_name        5360 non-null object\n",
      "username         53239 non-null object\n",
      "email            53089 non-null object\n",
      "phone_number     53094 non-null object\n",
      "date_joined      53239 non-null datetime64[ns]\n",
      "first_login      50773 non-null datetime64[ns]\n",
      "last_activity    44903 non-null datetime64[ns]\n",
      "dtypes: datetime64[ns](3), int64(1), object(5)\n",
      "memory usage: 3.7+ MB\n"
     ]
    }
   ],
   "source": [
    "# Lets check the health of the data set\n",
    "user_data_to_clean.info()"
   ]
  },
  {
   "cell_type": "markdown",
   "metadata": {},
   "source": [
    "As is visible from the last column (*age_on_platform*) data type, Pandas is not recognising it as date type format. \n",
    "This will make things difficult, so I delete this particular column and add a new one.\n",
    "Since the data in *age_on_platform* can be recreated by doing *age_on_platform* = *last_activity* - *first_login* "
   ]
  },
  {
   "cell_type": "markdown",
   "metadata": {},
   "source": [
    "But on eyeballing I noticed some, cells of column *first_login* have greater value than corresponding cell of *last_activity*. These cells need to be swapped, since its not possible to have *first_login* > *last_activity*\n",
    "Finally the columns *first_login*, *last_activity* have missing values, as evident from above table. Since this is time data, that in my opinion should not be imputed, we will drop/delete the columns."
   ]
  },
  {
   "cell_type": "code",
   "execution_count": 141,
   "metadata": {
    "collapsed": false
   },
   "outputs": [
    {
     "name": "stdout",
     "output_type": "stream",
     "text": [
      "last_activity_count=8336\tswapped_count=922\tfirst_login_count=170\temail_count=2\tuserid_count=0\n"
     ]
    }
   ],
   "source": [
    "# Run a loop through the data frame and check each row for this anamoly, if found drop,\n",
    "# this is being done ONLY for selected columns\n",
    "\n",
    "import datetime\n",
    "\n",
    "swapped_count = 0\n",
    "first_login_count = 0\n",
    "last_activity_count = 0\n",
    "email_count = 0\n",
    "userid_count = 0\n",
    "\n",
    "for index, row in user_data_to_clean.iterrows():        \n",
    "        if row.last_activity == pd.NaT or row.last_activity != row.last_activity:\n",
    "            last_activity_count = last_activity_count + 1\n",
    "            #print row.last_activity\n",
    "            user_data_to_clean.drop(index, inplace=True)\n",
    "\n",
    "        elif row.first_login > row.last_activity:\n",
    "            user_data_to_clean.drop(index, inplace=True)\n",
    "            swapped_count = swapped_count + 1\n",
    "\n",
    "        elif row.first_login != row.first_login or row.first_login == pd.NaT:\n",
    "            user_data_to_clean.drop(index, inplace=True)\n",
    "            first_login_count = first_login_count + 1\n",
    "\n",
    "        elif row.email != row.email: #or row.email == '' or row.email == ' ':\n",
    "            user_data_to_clean.drop(index, inplace=True)\n",
    "            email_count = email_count + 1\n",
    "\n",
    "        elif row.user_id != row.user_id:\n",
    "            user_data_to_clean.drop(index, inplace=True)\n",
    "            userid_count = userid_count + 1\n",
    "    \n",
    "#temp_date_var = row.first_login\n",
    "#user_data_to_clean.set_value(index, 'first_login', row.last_activity)\n",
    "#user_data_to_clean.set_value(index, 'last_activity', temp_date_var)\n",
    "#print \"to_swap: \\t\" + \"first_login\\t\" + row.first_login.isoformat() + \"\\tlast_activity\\t\" + row.last_activity.isoformat()\n",
    "\n",
    "print \"last_activity_count=%d\\tswapped_count=%d\\tfirst_login_count=%d\\temail_count=%d\\tuserid_count=%d\" \\\n",
    "% (last_activity_count, swapped_count, first_login_count, email_count, userid_count)"
   ]
  },
  {
   "cell_type": "code",
   "execution_count": 142,
   "metadata": {
    "collapsed": false
   },
   "outputs": [
    {
     "data": {
      "text/plain": [
       "(43809, 9)"
      ]
     },
     "execution_count": 142,
     "metadata": {},
     "output_type": "execute_result"
    }
   ],
   "source": [
    "user_data_to_clean.shape"
   ]
  },
  {
   "cell_type": "code",
   "execution_count": 143,
   "metadata": {
    "collapsed": false
   },
   "outputs": [],
   "source": [
    "# Create new column 'age_on_platform' which has the corresponding value in date type format\n",
    "user_data_to_clean[\"age_on_platform\"] = user_data_to_clean[\"last_activity\"] - user_data_to_clean[\"first_login\"]"
   ]
  },
  {
   "cell_type": "code",
   "execution_count": 144,
   "metadata": {
    "collapsed": false
   },
   "outputs": [
    {
     "name": "stdout",
     "output_type": "stream",
     "text": [
      "<class 'pandas.core.frame.DataFrame'>\n",
      "Int64Index: 43809 entries, 0 to 53238\n",
      "Data columns (total 10 columns):\n",
      "user_id            43809 non-null int64\n",
      "first_name         43806 non-null object\n",
      "last_name          2385 non-null object\n",
      "username           43809 non-null object\n",
      "email              43809 non-null object\n",
      "phone_number       43801 non-null object\n",
      "date_joined        43809 non-null datetime64[ns]\n",
      "first_login        43809 non-null datetime64[ns]\n",
      "last_activity      43809 non-null datetime64[ns]\n",
      "age_on_platform    43809 non-null timedelta64[ns]\n",
      "dtypes: datetime64[ns](3), int64(1), object(5), timedelta64[ns](1)\n",
      "memory usage: 3.7+ MB\n"
     ]
    }
   ],
   "source": [
    "user_data_to_clean.info()"
   ]
  },
  {
   "cell_type": "markdown",
   "metadata": {},
   "source": [
    "#### Validate if email i'd is correctly formatted"
   ]
  },
  {
   "cell_type": "code",
   "execution_count": 145,
   "metadata": {
    "collapsed": false
   },
   "outputs": [
    {
     "name": "stdout",
     "output_type": "stream",
     "text": [
      "Number of email-id invalid: 49 & number od email-id duplicated: 0\n"
     ]
    }
   ],
   "source": [
    "from validate_email import validate_email\n",
    "\n",
    "email_count_invalid = 0\n",
    "email_count_duplicate = 0\n",
    "for index, row in user_data_to_clean.iterrows():        \n",
    "        if not validate_email(row.email):\n",
    "            #print row.email\n",
    "            user_data_to_clean.drop(index, inplace=True)\n",
    "            email_count_invalid = email_count_invalid + 1\n",
    "        \n",
    "        #else:\n",
    "         #   flag = 0\n",
    "          #  for index_j, row_j in user_data_to_clean.iterrows():\n",
    "           #     if row.email == row_j.email:\n",
    "            #        flag = flag + 1\n",
    "             #       if flag > 1:\n",
    "              #          user_data_to_clean.drop(index_j, inplace=True)\n",
    "               #         email_count_duplicate = email_count_duplicate + 1\n",
    "print \"Number of email-id invalid: %d & number od email-id duplicated: %d\" % (email_count_invalid, email_count_duplicate)\n"
   ]
  },
  {
   "cell_type": "code",
   "execution_count": 146,
   "metadata": {
    "collapsed": false
   },
   "outputs": [
    {
     "name": "stdout",
     "output_type": "stream",
     "text": [
      "<class 'pandas.core.frame.DataFrame'>\n",
      "Int64Index: 43760 entries, 0 to 53238\n",
      "Data columns (total 10 columns):\n",
      "user_id            43760 non-null int64\n",
      "first_name         43757 non-null object\n",
      "last_name          2381 non-null object\n",
      "username           43760 non-null object\n",
      "email              43760 non-null object\n",
      "phone_number       43752 non-null object\n",
      "date_joined        43760 non-null datetime64[ns]\n",
      "first_login        43760 non-null datetime64[ns]\n",
      "last_activity      43760 non-null datetime64[ns]\n",
      "age_on_platform    43760 non-null timedelta64[ns]\n",
      "dtypes: datetime64[ns](3), int64(1), object(5), timedelta64[ns](1)\n",
      "memory usage: 3.7+ MB\n"
     ]
    }
   ],
   "source": [
    "# Check the result of last operation \n",
    "user_data_to_clean.info()"
   ]
  },
  {
   "cell_type": "markdown",
   "metadata": {},
   "source": [
    "### Remove duplicates"
   ]
  },
  {
   "cell_type": "code",
   "execution_count": 147,
   "metadata": {
    "collapsed": true
   },
   "outputs": [],
   "source": [
    "user_data_to_deDuplicate = user_data_to_clean.copy()"
   ]
  },
  {
   "cell_type": "code",
   "execution_count": null,
   "metadata": {
    "collapsed": false
   },
   "outputs": [],
   "source": []
  },
  {
   "cell_type": "code",
   "execution_count": 148,
   "metadata": {
    "collapsed": false
   },
   "outputs": [
    {
     "data": {
      "text/plain": [
       "40495"
      ]
     },
     "execution_count": 148,
     "metadata": {},
     "output_type": "execute_result"
    }
   ],
   "source": [
    "user_data_deDuplicateD = user_data_to_deDuplicate.loc[~user_data_to_deDuplicate.email.str.strip().duplicated()]\n",
    "len(user_data_deDuplicateD)"
   ]
  },
  {
   "cell_type": "code",
   "execution_count": 149,
   "metadata": {
    "collapsed": false
   },
   "outputs": [
    {
     "name": "stdout",
     "output_type": "stream",
     "text": [
      "<class 'pandas.core.frame.DataFrame'>\n",
      "Int64Index: 40495 entries, 0 to 53238\n",
      "Data columns (total 10 columns):\n",
      "user_id            40495 non-null int64\n",
      "first_name         40492 non-null object\n",
      "last_name          2111 non-null object\n",
      "username           40495 non-null object\n",
      "email              40495 non-null object\n",
      "phone_number       40487 non-null object\n",
      "date_joined        40495 non-null datetime64[ns]\n",
      "first_login        40495 non-null datetime64[ns]\n",
      "last_activity      40495 non-null datetime64[ns]\n",
      "age_on_platform    40495 non-null timedelta64[ns]\n",
      "dtypes: datetime64[ns](3), int64(1), object(5), timedelta64[ns](1)\n",
      "memory usage: 3.4+ MB\n"
     ]
    }
   ],
   "source": [
    "user_data_deDuplicateD.info()"
   ]
  },
  {
   "cell_type": "code",
   "execution_count": 150,
   "metadata": {
    "collapsed": true
   },
   "outputs": [],
   "source": [
    "# Save the labeled data frame as excel file\n",
    "#from pandas import options\n",
    "#options.io.excel.xlsx.writer = 'xlsxwriter'\n",
    "#user_data_imputed_data_frame_labeled.to_excel('user_data_imputed_data_frame_labeled.xlsx')"
   ]
  },
  {
   "cell_type": "markdown",
   "metadata": {},
   "source": [
    "## Clustering"
   ]
  },
  {
   "cell_type": "code",
   "execution_count": 151,
   "metadata": {
    "collapsed": false
   },
   "outputs": [
    {
     "name": "stdout",
     "output_type": "stream",
     "text": [
      "<class 'pandas.core.frame.DataFrame'>\n",
      "Int64Index: 40495 entries, 0 to 53238\n",
      "Data columns (total 10 columns):\n",
      "user_id            40495 non-null int64\n",
      "first_name         40492 non-null object\n",
      "last_name          2111 non-null object\n",
      "username           40495 non-null object\n",
      "email              40495 non-null object\n",
      "phone_number       40487 non-null object\n",
      "date_joined        40495 non-null datetime64[ns]\n",
      "first_login        40495 non-null datetime64[ns]\n",
      "last_activity      40495 non-null datetime64[ns]\n",
      "age_on_platform    40495 non-null float64\n",
      "dtypes: datetime64[ns](3), float64(1), int64(1), object(5)\n",
      "memory usage: 3.4+ MB\n"
     ]
    }
   ],
   "source": [
    "# Now its time to convert the timedelta64 column named age_on_platform\n",
    "def convert_timedelta64_to_sec(td64):\n",
    "    ts = (td64 / np.timedelta64(1, 's'))\n",
    "    return ts\n",
    "\n",
    "user_data_deDuplicateD_timedelta64_converted = user_data_deDuplicateD.copy()\n",
    "user_data_deDuplicateD_timedelta64_converted['age_on_platform'] = user_data_deDuplicateD_timedelta64_converted['age_on_platform'].apply(convert_timedelta64_to_sec)\n",
    "#user_data_deDuplicateD_timedelta64_converted['age_on_platform'].apply(convert_timedelta64_to_sec)\n",
    "user_data_deDuplicateD_timedelta64_converted.info()"
   ]
  },
  {
   "cell_type": "code",
   "execution_count": 152,
   "metadata": {
    "collapsed": false
   },
   "outputs": [
    {
     "name": "stdout",
     "output_type": "stream",
     "text": [
      "<class 'pandas.core.frame.DataFrame'>\n",
      "Int64Index: 40495 entries, 0 to 53238\n",
      "Data columns (total 10 columns):\n",
      "user_id            40495 non-null int64\n",
      "first_name         40492 non-null object\n",
      "last_name          2111 non-null object\n",
      "username           40495 non-null object\n",
      "email              40495 non-null object\n",
      "phone_number       40487 non-null object\n",
      "date_joined        40495 non-null datetime64[ns]\n",
      "first_login        40495 non-null datetime64[ns]\n",
      "last_activity      40495 non-null datetime64[ns]\n",
      "age_on_platform    40495 non-null timedelta64[ns]\n",
      "dtypes: datetime64[ns](3), int64(1), object(5), timedelta64[ns](1)\n",
      "memory usage: 3.4+ MB\n"
     ]
    }
   ],
   "source": [
    "user_data_deDuplicateD.info()"
   ]
  },
  {
   "cell_type": "code",
   "execution_count": 153,
   "metadata": {
    "collapsed": false
   },
   "outputs": [
    {
     "name": "stdout",
     "output_type": "stream",
     "text": [
      "cluster 0 : lenght = 36269\n",
      "cluster 0 : Max = 111.888815445 days & Min 0.0 days\n",
      "cluster 1 : lenght = 3891\n",
      "cluster 1 : Max = 250.97137236 days & Min 111.934197491 days\n",
      "cluster 2 : lenght = 122\n",
      "cluster 2 : Max = 306.512584735 days & Min 251.177379766 days\n",
      "cluster 3 : lenght = 67\n",
      "cluster 3 : Max = 353.589646206 days & Min 307.752969458 days\n",
      "cluster 4 : lenght = 63\n",
      "cluster 4 : Max = 419.562120373 days & Min 355.577729363 days\n",
      "cluster 5 : lenght = 26\n",
      "cluster 5 : Max = 474.295703624 days & Min 425.044192838 days\n",
      "cluster 6 : lenght = 14\n",
      "cluster 6 : Max = 504.780227927 days & Min 478.80180168 days\n",
      "cluster 7 : lenght = 7\n",
      "cluster 7 : Max = 530.619521918 days & Min 508.479449177 days\n",
      "cluster 8 : lenght = 11\n",
      "cluster 8 : Max = 631.129585023 days & Min 579.371459826 days\n",
      "cluster 9 : lenght = 7\n",
      "cluster 9 : Max = 570.795179041 days & Min 538.63842877 days\n",
      "cluster 10 : lenght = 5\n",
      "cluster 10 : Max = 818.060200506 days & Min 797.947215638 days\n",
      "cluster 11 : lenght = 5\n",
      "cluster 11 : Max = 777.25270169 days & Min 740.505941137 days\n",
      "cluster 12 : lenght = 3\n",
      "cluster 12 : Max = 669.24526068 days & Min 667.230777001 days\n",
      "cluster 13 : lenght = 1\n",
      "cluster 13 : Max = 1078.83125917 days & Min 1078.83125917 days\n",
      "cluster 14 : lenght = 1\n",
      "cluster 14 : Max = 995.870610375 days & Min 995.870610375 days\n",
      "cluster 15 : lenght = 1\n",
      "cluster 15 : Max = 929.193007314 days & Min 929.193007314 days\n",
      "cluster 16 : lenght = 1\n",
      "cluster 16 : Max = 1194.85187785 days & Min 1194.85187785 days\n",
      "cluster 17 : lenght = 1\n",
      "cluster 17 : Max = 700.587310053 days & Min 700.587310053 days\n"
     ]
    }
   ],
   "source": [
    "# Clustering using Mean shift\n",
    "\n",
    "from sklearn.cluster import MeanShift, estimate_bandwidth\n",
    "\n",
    "#x = [1,1,5,6,1,5,10,22,23,23,50,51,51,52,100,112,130,500,512,600,12000,12230]\n",
    "x = pd.Series(user_data_deDuplicateD_timedelta64_converted['age_on_platform'])\n",
    "\n",
    "X = np.array(zip(x,np.zeros(len(x))), dtype=np.int)\n",
    "bandwidth = estimate_bandwidth(X, quantile=0.2)\n",
    "ms = MeanShift(bandwidth=bandwidth, bin_seeding=True)\n",
    "ms.fit(X)\n",
    "labels = ms.labels_\n",
    "cluster_centers = ms.cluster_centers_\n",
    "\n",
    "labels_unique = np.unique(labels)\n",
    "n_clusters_ = len(labels_unique)\n",
    "\n",
    "for k in range(n_clusters_):\n",
    "    my_members = labels == k\n",
    "    print \"cluster {0} : lenght = {1}\".format(k, len(X[my_members, 0]))\n",
    "    #print \"cluster {0}: {1}\".format(k, X[my_members, 0])\n",
    "    cluster_sorted = sorted(X[my_members, 0])\n",
    "    print \"cluster {0} : Max = {2} days & Min {1} days\".format(k, cluster_sorted[0]*1.15741e-5, cluster_sorted[-1]*1.15741e-5)"
   ]
  },
  {
   "cell_type": "code",
   "execution_count": 154,
   "metadata": {
    "collapsed": false
   },
   "outputs": [
    {
     "name": "stdout",
     "output_type": "stream",
     "text": [
      "<class 'pandas.core.frame.DataFrame'>\n",
      "Int64Index: 40495 entries, 0 to 53238\n",
      "Data columns (total 10 columns):\n",
      "user_id            40495 non-null int64\n",
      "first_name         40492 non-null object\n",
      "last_name          2111 non-null object\n",
      "username           40495 non-null object\n",
      "email              40495 non-null object\n",
      "phone_number       40487 non-null object\n",
      "date_joined        40495 non-null datetime64[ns]\n",
      "first_login        40495 non-null datetime64[ns]\n",
      "last_activity      40495 non-null datetime64[ns]\n",
      "age_on_platform    40495 non-null timedelta64[ns]\n",
      "dtypes: datetime64[ns](3), int64(1), object(5), timedelta64[ns](1)\n",
      "memory usage: 3.4+ MB\n"
     ]
    }
   ],
   "source": [
    "# Report max & min per cluster in days\n",
    "#print \"cluster {0}: {1}\".format(k, X[my_members, 0])\n",
    "\n",
    "user_data_deDuplicateD.info()"
   ]
  },
  {
   "cell_type": "code",
   "execution_count": 155,
   "metadata": {
    "collapsed": false
   },
   "outputs": [
    {
     "data": {
      "text/plain": [
       "'\\ny = [1,1,5,6,1,5,10,22,23,23,50,51,51,52,100,112,130,500,512,600,12000,12230]\\ny_float = map(float, y)\\nx = range(len(y))\\nx_float = map(float, x)\\n\\nm = np.matrix([x_float, y_float]).transpose()\\n\\n\\nfrom scipy.cluster.vq import kmeans\\nkclust = kmeans(m, 5)\\n\\nkclust[0][:, 0]\\n\\nassigned_clusters = [abs(cluster_indices - e).argmin() for e in x]\\n'"
      ]
     },
     "execution_count": 155,
     "metadata": {},
     "output_type": "execute_result"
    }
   ],
   "source": [
    "# Clustering using Kmeans\n",
    "'''\n",
    "y = [1,1,5,6,1,5,10,22,23,23,50,51,51,52,100,112,130,500,512,600,12000,12230]\n",
    "y_float = map(float, y)\n",
    "x = range(len(y))\n",
    "x_float = map(float, x)\n",
    "\n",
    "m = np.matrix([x_float, y_float]).transpose()\n",
    "\n",
    "\n",
    "from scipy.cluster.vq import kmeans\n",
    "kclust = kmeans(m, 5)\n",
    "\n",
    "kclust[0][:, 0]\n",
    "\n",
    "assigned_clusters = [abs(cluster_indices - e).argmin() for e in x]\n",
    "'''"
   ]
  },
  {
   "cell_type": "markdown",
   "metadata": {},
   "source": [
    "### Binning based on **age_on_platform** \n",
    "bin1 = 0 to 1 days\n",
    "\n",
    "bin2 = 2 to 8 days\n",
    "\n",
    "bin3 = 8 days and beyond"
   ]
  },
  {
   "cell_type": "code",
   "execution_count": 166,
   "metadata": {
    "collapsed": false
   },
   "outputs": [],
   "source": [
    "user_data_binned = user_data_deDuplicateD.copy()\n",
    "\n",
    "for index, row in user_data_deDuplicateD.iterrows():\n",
    "    if row[\"age_on_platform\"] < np.timedelta64(1, 'D'):\n",
    "        user_data_binned.set_value(index, 'bin', 0)\n",
    "    \n",
    "    if row[\"age_on_platform\"] < np.timedelta64(2, 'D'):\n",
    "        user_data_binned.set_value(index, 'bin', 1)\n",
    "        \n",
    "    elif row[\"age_on_platform\"] >= np.timedelta64(2, 'D') and row[\"age_on_platform\"] < np.timedelta64(8, 'D'):\n",
    "        user_data_binned.set_value(index, 'bin', 2)    \n",
    "        \n",
    "    elif row[\"age_on_platform\"] >= np.timedelta64(8, 'D'):\n",
    "        user_data_binned.set_value(index, 'bin', 3)"
   ]
  },
  {
   "cell_type": "code",
   "execution_count": 163,
   "metadata": {
    "collapsed": false
   },
   "outputs": [
    {
     "name": "stdout",
     "output_type": "stream",
     "text": [
      "Number of users with age_on_platform less than 2 days = 12844\n"
     ]
    }
   ],
   "source": [
    "print \"Number of users with age_on_platform less than 2 days = %d\" % len(user_data_binned[user_data_binned.bin == 1])"
   ]
  },
  {
   "cell_type": "code",
   "execution_count": 164,
   "metadata": {
    "collapsed": false
   },
   "outputs": [
    {
     "name": "stdout",
     "output_type": "stream",
     "text": [
      "Number of users with age_on_platform less than 8 days = 5517\n"
     ]
    }
   ],
   "source": [
    "print \"Number of users with age_on_platform less than 8 days = %d\" % len(user_data_binned[user_data_binned.bin == 2])"
   ]
  },
  {
   "cell_type": "code",
   "execution_count": 165,
   "metadata": {
    "collapsed": false
   },
   "outputs": [
    {
     "name": "stdout",
     "output_type": "stream",
     "text": [
      "Number of users with age_on_platform more than 8 days = 22134\n"
     ]
    }
   ],
   "source": [
    "print \"Number of users with age_on_platform more than 8 days = %d\" % len(user_data_binned[user_data_binned.bin == 3])"
   ]
  },
  {
   "cell_type": "code",
   "execution_count": 161,
   "metadata": {
    "collapsed": false
   },
   "outputs": [
    {
     "name": "stdout",
     "output_type": "stream",
     "text": [
      "40495\n"
     ]
    }
   ],
   "source": []
  },
  {
   "cell_type": "code",
   "execution_count": null,
   "metadata": {
    "collapsed": true
   },
   "outputs": [],
   "source": []
  }
 ],
 "metadata": {
  "kernelspec": {
   "display_name": "Python 2",
   "language": "python",
   "name": "python2"
  },
  "language_info": {
   "codemirror_mode": {
    "name": "ipython",
    "version": 2
   },
   "file_extension": ".py",
   "mimetype": "text/x-python",
   "name": "python",
   "nbconvert_exporter": "python",
   "pygments_lexer": "ipython2",
   "version": "2.7.11"
  }
 },
 "nbformat": 4,
 "nbformat_minor": 0
}
