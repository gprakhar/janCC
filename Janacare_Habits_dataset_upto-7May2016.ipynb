{
 "cells": [
  {
   "cell_type": "markdown",
   "metadata": {},
   "source": [
    "Hello World!\n",
    "This notebook describes the effort to cleanup and cluster a Habits dataset."
   ]
  },
  {
   "cell_type": "markdown",
   "metadata": {},
   "source": [
    "de-duplicate : 1. user i'd\n",
    "               2. email i'd (prefer most recent, according to Age-on-platform\n",
    "               3.\n",
    "\n",
    "\n",
    "Clustering the Data:\n",
    "two methods - \n",
    "\n",
    "A) cluster the data  and see how many clusters are there\n",
    "\n",
    "\n",
    "B) three bins : \"signed up not used\", \"completed not beyond 1 week\", \"everyone else\""
   ]
  },
  {
   "cell_type": "markdown",
   "metadata": {},
   "source": [
    "# Looking around the data set"
   ]
  },
  {
   "cell_type": "code",
   "execution_count": 1,
   "metadata": {
    "collapsed": false
   },
   "outputs": [
    {
     "name": "stdout",
     "output_type": "stream",
     "text": [
      "Once deleted, variables cannot be recovered. Proceed (y/[n])? y\n"
     ]
    }
   ],
   "source": [
    "%reset"
   ]
  },
  {
   "cell_type": "code",
   "execution_count": 2,
   "metadata": {
    "collapsed": true
   },
   "outputs": [],
   "source": [
    "# Import the required modules\n",
    "import pandas as pd\n",
    "import numpy as np\n",
    "import scipy as sp"
   ]
  },
  {
   "cell_type": "code",
   "execution_count": 3,
   "metadata": {
    "collapsed": false
   },
   "outputs": [],
   "source": [
    "# simple function to read in the user data file.\n",
    "# the argument parse_dates takes in a list of colums, which are to be parsed as date format\n",
    "user_data_raw_csv = pd.read_csv(\"/home/eyebell/local_bin/janacare/datasets/Habits-Data_upto-7th-May.csv\",\\\n",
    "                            parse_dates = [-3, -2, -1])"
   ]
  },
  {
   "cell_type": "code",
   "execution_count": 4,
   "metadata": {
    "collapsed": false
   },
   "outputs": [],
   "source": [
    "# import the pyexcel module\n",
    "#import pyexcel as pe\n",
    "#from pyexcel.ext import xls\n",
    "\n",
    "# load the file\n",
    "#records = pe.get_records(file_name=\"/home/eyebell/local_bin/janacare/datasets/Habits-Data_upto-7th-May.xls\")\n",
    "#len(records)\n",
    "#for record in records:\n",
    "    #print record"
   ]
  },
  {
   "cell_type": "code",
   "execution_count": 5,
   "metadata": {
    "collapsed": false
   },
   "outputs": [
    {
     "data": {
      "text/plain": [
       "(53239, 9)"
      ]
     },
     "execution_count": 5,
     "metadata": {},
     "output_type": "execute_result"
    }
   ],
   "source": [
    "# data metrics\n",
    "user_data_raw_csv.shape # Rows , colums\n"
   ]
  },
  {
   "cell_type": "code",
   "execution_count": 6,
   "metadata": {
    "collapsed": false
   },
   "outputs": [
    {
     "data": {
      "text/plain": [
       "user_id                   int64\n",
       "first_name               object\n",
       "last_name                object\n",
       "username                 object\n",
       "email                    object\n",
       "phone_number             object\n",
       "date_joined      datetime64[ns]\n",
       "first_login      datetime64[ns]\n",
       "last_activity    datetime64[ns]\n",
       "dtype: object"
      ]
     },
     "execution_count": 6,
     "metadata": {},
     "output_type": "execute_result"
    }
   ],
   "source": [
    "# data metrics\n",
    "user_data_raw_csv.dtypes # data type of colums"
   ]
  },
  {
   "cell_type": "code",
   "execution_count": 7,
   "metadata": {
    "collapsed": true
   },
   "outputs": [],
   "source": [
    "user_data_to_clean = user_data_raw_csv"
   ]
  },
  {
   "cell_type": "code",
   "execution_count": null,
   "metadata": {
    "collapsed": false
   },
   "outputs": [],
   "source": [
    "# Some basic statistical information on the data\n",
    "#user_data_to_clean.describe()"
   ]
  },
  {
   "cell_type": "markdown",
   "metadata": {},
   "source": [
    "# Data Clean up"
   ]
  },
  {
   "cell_type": "markdown",
   "metadata": {},
   "source": [
    "In the last section of looking around, I saw that a lot of rows do not have any values or have garbage values(see first row of the table above).\n",
    "This can cause errors when computing anything using the values in these rows, hence a clean up is required."
   ]
  },
  {
   "cell_type": "markdown",
   "metadata": {},
   "source": [
    "If a the coulums *last_activity* and *first_login* are empty then drop the corresponding row !"
   ]
  },
  {
   "cell_type": "code",
   "execution_count": 8,
   "metadata": {
    "collapsed": false,
    "scrolled": true
   },
   "outputs": [
    {
     "name": "stdout",
     "output_type": "stream",
     "text": [
      "<class 'pandas.core.frame.DataFrame'>\n",
      "RangeIndex: 53239 entries, 0 to 53238\n",
      "Data columns (total 9 columns):\n",
      "user_id          53239 non-null int64\n",
      "first_name       53108 non-null object\n",
      "last_name        5360 non-null object\n",
      "username         53239 non-null object\n",
      "email            53089 non-null object\n",
      "phone_number     53094 non-null object\n",
      "date_joined      53239 non-null datetime64[ns]\n",
      "first_login      50773 non-null datetime64[ns]\n",
      "last_activity    44903 non-null datetime64[ns]\n",
      "dtypes: datetime64[ns](3), int64(1), object(5)\n",
      "memory usage: 3.7+ MB\n"
     ]
    }
   ],
   "source": [
    "# Lets check the health of the data set\n",
    "user_data_to_clean.info()"
   ]
  },
  {
   "cell_type": "markdown",
   "metadata": {},
   "source": [
    "As is visible from the last column (*age_on_platform*) data type, Pandas is not recognising it as date type format. \n",
    "This will make things difficult, so I delete this particular column and add a new one.\n",
    "Since the data in *age_on_platform* can be recreated by doing *age_on_platform* = *last_activity* - *first_login* "
   ]
  },
  {
   "cell_type": "markdown",
   "metadata": {},
   "source": [
    "But on eyeballing I noticed some, cells of column *first_login* have greater value than corresponding cell of *last_activity*. These cells need to be swapped, since its not possible to have *first_login* > *last_activity*\n",
    "Finally the columns *first_login*, *last_activity* have missing values, as evident from above table. Since this is time data, that in my opinion should not be imputed, we will drop/delete the columns."
   ]
  },
  {
   "cell_type": "code",
   "execution_count": 9,
   "metadata": {
    "collapsed": false
   },
   "outputs": [
    {
     "name": "stdout",
     "output_type": "stream",
     "text": [
      "last_activity_count=8336\tswapped_count=922\tfirst_login_count=170\temail_count=2\tuserid_count=0\n"
     ]
    }
   ],
   "source": [
    "# Run a loop through the data frame and check each row for this anamoly, if found drop,\n",
    "# this is being done ONLY for selected columns\n",
    "\n",
    "import datetime\n",
    "\n",
    "swapped_count = 0\n",
    "first_login_count = 0\n",
    "last_activity_count = 0\n",
    "email_count = 0\n",
    "userid_count = 0\n",
    "\n",
    "for index, row in user_data_to_clean.iterrows():        \n",
    "        if row.last_activity == pd.NaT or row.last_activity != row.last_activity:\n",
    "            last_activity_count = last_activity_count + 1\n",
    "            #print row.last_activity\n",
    "            user_data_to_clean.drop(index, inplace=True)\n",
    "\n",
    "        elif row.first_login > row.last_activity:\n",
    "            user_data_to_clean.drop(index, inplace=True)\n",
    "            swapped_count = swapped_count + 1\n",
    "\n",
    "        elif row.first_login != row.first_login or row.first_login == pd.NaT:\n",
    "            user_data_to_clean.drop(index, inplace=True)\n",
    "            first_login_count = first_login_count + 1\n",
    "\n",
    "        elif row.email != row.email: #or row.email == '' or row.email == ' ':\n",
    "            user_data_to_clean.drop(index, inplace=True)\n",
    "            email_count = email_count + 1\n",
    "\n",
    "        elif row.user_id != row.user_id:\n",
    "            user_data_to_clean.drop(index, inplace=True)\n",
    "            userid_count = userid_count + 1\n",
    "    \n",
    "#temp_date_var = row.first_login\n",
    "#user_data_to_clean.set_value(index, 'first_login', row.last_activity)\n",
    "#user_data_to_clean.set_value(index, 'last_activity', temp_date_var)\n",
    "#print \"to_swap: \\t\" + \"first_login\\t\" + row.first_login.isoformat() + \"\\tlast_activity\\t\" + row.last_activity.isoformat()\n",
    "\n",
    "print \"last_activity_count=%d\\tswapped_count=%d\\tfirst_login_count=%d\\temail_count=%d\\tuserid_count=%d\" \\\n",
    "% (last_activity_count, swapped_count, first_login_count, email_count, userid_count)"
   ]
  },
  {
   "cell_type": "code",
   "execution_count": 10,
   "metadata": {
    "collapsed": false
   },
   "outputs": [
    {
     "data": {
      "text/plain": [
       "(43809, 9)"
      ]
     },
     "execution_count": 10,
     "metadata": {},
     "output_type": "execute_result"
    }
   ],
   "source": [
    "user_data_to_clean.shape"
   ]
  },
  {
   "cell_type": "code",
   "execution_count": 11,
   "metadata": {
    "collapsed": false
   },
   "outputs": [],
   "source": [
    "# Create new column 'age_on_platform' which has the corresponding value in date type format\n",
    "user_data_to_clean[\"age_on_platform\"] = user_data_to_clean[\"last_activity\"] - user_data_to_clean[\"first_login\"]"
   ]
  },
  {
   "cell_type": "code",
   "execution_count": 12,
   "metadata": {
    "collapsed": false
   },
   "outputs": [
    {
     "name": "stdout",
     "output_type": "stream",
     "text": [
      "<class 'pandas.core.frame.DataFrame'>\n",
      "Int64Index: 43809 entries, 0 to 53238\n",
      "Data columns (total 10 columns):\n",
      "user_id            43809 non-null int64\n",
      "first_name         43806 non-null object\n",
      "last_name          2385 non-null object\n",
      "username           43809 non-null object\n",
      "email              43809 non-null object\n",
      "phone_number       43801 non-null object\n",
      "date_joined        43809 non-null datetime64[ns]\n",
      "first_login        43809 non-null datetime64[ns]\n",
      "last_activity      43809 non-null datetime64[ns]\n",
      "age_on_platform    43809 non-null timedelta64[ns]\n",
      "dtypes: datetime64[ns](3), int64(1), object(5), timedelta64[ns](1)\n",
      "memory usage: 3.7+ MB\n"
     ]
    }
   ],
   "source": [
    "user_data_to_clean.info()"
   ]
  },
  {
   "cell_type": "markdown",
   "metadata": {},
   "source": [
    "#### Validate if email i'd is correctly formatted"
   ]
  },
  {
   "cell_type": "code",
   "execution_count": 14,
   "metadata": {
    "collapsed": false
   },
   "outputs": [
    {
     "name": "stdout",
     "output_type": "stream",
     "text": [
      "Number of email-id invalid: 45 & number od email-id duplicated: 0\n"
     ]
    }
   ],
   "source": [
    "from validate_email import validate_email\n",
    "\n",
    "email_count_invalid = 0\n",
    "email_count_duplicate = 0\n",
    "for index, row in user_data_to_clean.iterrows():        \n",
    "        if not validate_email(row.email):\n",
    "            #print row.email\n",
    "            user_data_to_clean.drop(index, inplace=True)\n",
    "            email_count_invalid = email_count_invalid + 1\n",
    "        \n",
    "        #else:\n",
    "         #   flag = 0\n",
    "          #  for index_j, row_j in user_data_to_clean.iterrows():\n",
    "           #     if row.email == row_j.email:\n",
    "            #        flag = flag + 1\n",
    "             #       if flag > 1:\n",
    "              #          user_data_to_clean.drop(index_j, inplace=True)\n",
    "               #         email_count_duplicate = email_count_duplicate + 1\n",
    "print \"Number of email-id invalid: %d & number od email-id duplicated: %d\" % (email_count_invalid, email_count_duplicate)\n"
   ]
  },
  {
   "cell_type": "code",
   "execution_count": 15,
   "metadata": {
    "collapsed": false
   },
   "outputs": [
    {
     "name": "stdout",
     "output_type": "stream",
     "text": [
      "<class 'pandas.core.frame.DataFrame'>\n",
      "Int64Index: 43612 entries, 0 to 53238\n",
      "Data columns (total 10 columns):\n",
      "user_id            43612 non-null int64\n",
      "first_name         43609 non-null object\n",
      "last_name          2300 non-null object\n",
      "username           43612 non-null object\n",
      "email              43612 non-null object\n",
      "phone_number       43604 non-null object\n",
      "date_joined        43612 non-null datetime64[ns]\n",
      "first_login        43612 non-null datetime64[ns]\n",
      "last_activity      43612 non-null datetime64[ns]\n",
      "age_on_platform    43612 non-null timedelta64[ns]\n",
      "dtypes: datetime64[ns](3), int64(1), object(5), timedelta64[ns](1)\n",
      "memory usage: 3.7+ MB\n"
     ]
    }
   ],
   "source": [
    "# Check the result of last operation \n",
    "user_data_to_clean.info()"
   ]
  },
  {
   "cell_type": "markdown",
   "metadata": {},
   "source": [
    "### Remove duplicates"
   ]
  },
  {
   "cell_type": "code",
   "execution_count": 16,
   "metadata": {
    "collapsed": true
   },
   "outputs": [],
   "source": [
    "user_data_to_deDuplicate = user_data_to_clean"
   ]
  },
  {
   "cell_type": "code",
   "execution_count": 17,
   "metadata": {
    "collapsed": false
   },
   "outputs": [],
   "source": [
    "bool_list = user_data_to_deDuplicate.email.str.strip().duplicated()"
   ]
  },
  {
   "cell_type": "code",
   "execution_count": 35,
   "metadata": {
    "collapsed": false
   },
   "outputs": [
    {
     "data": {
      "text/plain": [
       "40495"
      ]
     },
     "execution_count": 35,
     "metadata": {},
     "output_type": "execute_result"
    }
   ],
   "source": [
    "user_data_deDuplicateD = user_data_to_deDuplicate.loc[~user_data_to_deDuplicate.email.str.strip().duplicated()]\n",
    "len(user_data_deDuplicateD)"
   ]
  },
  {
   "cell_type": "code",
   "execution_count": 36,
   "metadata": {
    "collapsed": false
   },
   "outputs": [
    {
     "name": "stdout",
     "output_type": "stream",
     "text": [
      "<class 'pandas.core.frame.DataFrame'>\n",
      "Int64Index: 40495 entries, 0 to 53238\n",
      "Data columns (total 10 columns):\n",
      "user_id            40495 non-null int64\n",
      "first_name         40492 non-null object\n",
      "last_name          2111 non-null object\n",
      "username           40495 non-null object\n",
      "email              40495 non-null object\n",
      "phone_number       40487 non-null object\n",
      "date_joined        40495 non-null datetime64[ns]\n",
      "first_login        40495 non-null datetime64[ns]\n",
      "last_activity      40495 non-null datetime64[ns]\n",
      "age_on_platform    40495 non-null timedelta64[ns]\n",
      "dtypes: datetime64[ns](3), int64(1), object(5), timedelta64[ns](1)\n",
      "memory usage: 3.4+ MB\n"
     ]
    }
   ],
   "source": [
    "user_data_deDuplicateD.info()"
   ]
  },
  {
   "cell_type": "code",
   "execution_count": null,
   "metadata": {
    "collapsed": true
   },
   "outputs": [],
   "source": [
    "# Save the labeled data frame as excel file\n",
    "#from pandas import options\n",
    "#options.io.excel.xlsx.writer = 'xlsxwriter'\n",
    "#user_data_imputed_data_frame_labeled.to_excel('user_data_imputed_data_frame_labeled.xlsx')"
   ]
  },
  {
   "cell_type": "markdown",
   "metadata": {},
   "source": [
    "## Clustering"
   ]
  },
  {
   "cell_type": "code",
   "execution_count": null,
   "metadata": {
    "collapsed": true
   },
   "outputs": [],
   "source": [
    "#user_data_imputed_labeled_numpy_matrix = user_data_imputed_data_frame_labeled.as_matrix()"
   ]
  },
  {
   "cell_type": "code",
   "execution_count": 31,
   "metadata": {
    "collapsed": false
   },
   "outputs": [
    {
     "name": "stdout",
     "output_type": "stream",
     "text": [
      "cluster 0: [ 1  1  5  6  1  5 10 22 23 23]\n",
      "cluster 1: [50 51 51 52]\n",
      "cluster 2: [100 112 130]\n",
      "cluster 3: [500 512]\n",
      "cluster 4: [12000]\n",
      "cluster 5: [12230]\n",
      "cluster 6: [600]\n"
     ]
    }
   ],
   "source": [
    "from sklearn.cluster import MeanShift, estimate_bandwidth\n",
    "\n",
    "#x = [1,1,5,6,1,5,10,22,23,23,50,51,51,52,100,112,130,500,512,600,12000,12230]\n",
    "x = pd.Series(user_data_deDuplicateD[])\n",
    "\n",
    "X = np.array(zip(x,np.zeros(len(x))), dtype=np.int)\n",
    "bandwidth = estimate_bandwidth(X, quantile=0.1)\n",
    "ms = MeanShift(bandwidth=bandwidth, bin_seeding=True)\n",
    "ms.fit(X)\n",
    "labels = ms.labels_\n",
    "cluster_centers = ms.cluster_centers_\n",
    "\n",
    "labels_unique = np.unique(labels)\n",
    "n_clusters_ = len(labels_unique)\n",
    "\n",
    "for k in range(n_clusters_):\n",
    "    my_members = labels == k\n",
    "    print \"cluster {0}: {1}\".format(k, X[my_members, 0])"
   ]
  },
  {
   "cell_type": "code",
   "execution_count": 33,
   "metadata": {
    "collapsed": false
   },
   "outputs": [],
   "source": [
    "X = np.array(zip(x,np.zeros(len(x))), dtype=np.int)"
   ]
  },
  {
   "cell_type": "code",
   "execution_count": 34,
   "metadata": {
    "collapsed": false
   },
   "outputs": [
    {
     "name": "stdout",
     "output_type": "stream",
     "text": [
      "[[    1     0]\n",
      " [    1     0]\n",
      " [    5     0]\n",
      " [    6     0]\n",
      " [    1     0]\n",
      " [    5     0]\n",
      " [   10     0]\n",
      " [   22     0]\n",
      " [   23     0]\n",
      " [   23     0]\n",
      " [   50     0]\n",
      " [   51     0]\n",
      " [   51     0]\n",
      " [   52     0]\n",
      " [  100     0]\n",
      " [  112     0]\n",
      " [  130     0]\n",
      " [  500     0]\n",
      " [  512     0]\n",
      " [  600     0]\n",
      " [12000     0]\n",
      " [12230     0]]\n"
     ]
    }
   ],
   "source": [
    "print X"
   ]
  },
  {
   "cell_type": "code",
   "execution_count": null,
   "metadata": {
    "collapsed": true
   },
   "outputs": [],
   "source": []
  }
 ],
 "metadata": {
  "kernelspec": {
   "display_name": "Python 2",
   "language": "python",
   "name": "python2"
  },
  "language_info": {
   "codemirror_mode": {
    "name": "ipython",
    "version": 2
   },
   "file_extension": ".py",
   "mimetype": "text/x-python",
   "name": "python",
   "nbconvert_exporter": "python",
   "pygments_lexer": "ipython2",
   "version": "2.7.11"
  }
 },
 "nbformat": 4,
 "nbformat_minor": 0
}
