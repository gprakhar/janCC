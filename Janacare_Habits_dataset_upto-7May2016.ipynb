{
 "cells": [
  {
   "cell_type": "markdown",
   "metadata": {},
   "source": [
    "Hello World!\n",
    "This notebook describes the effort to cleanup and cluster a Habits dataset."
   ]
  },
  {
   "cell_type": "markdown",
   "metadata": {},
   "source": [
    "de-duplicate : 1. user i'd\n",
    "               2. email i'd (prefer most recent, according to Age-on-platform\n",
    "               3.\n",
    "\n",
    "\n",
    "Clustering the Data:\n",
    "two methods - \n",
    "\n",
    "A) cluster the data  and see how many clusters are there\n",
    "\n",
    "\n",
    "B) three bins : \"signed up not used\", \"completed not beyond 1 week\", \"everyone else\""
   ]
  },
  {
   "cell_type": "markdown",
   "metadata": {},
   "source": [
    "# Looking around the data set"
   ]
  },
  {
   "cell_type": "code",
   "execution_count": 1,
   "metadata": {
    "collapsed": false
   },
   "outputs": [
    {
     "name": "stdout",
     "output_type": "stream",
     "text": [
      "Once deleted, variables cannot be recovered. Proceed (y/[n])? y\n"
     ]
    }
   ],
   "source": [
    "%reset"
   ]
  },
  {
   "cell_type": "code",
   "execution_count": 2,
   "metadata": {
    "collapsed": true
   },
   "outputs": [],
   "source": [
    "# Import the required modules\n",
    "import pandas as pd\n",
    "import numpy as np\n",
    "import scipy as sp"
   ]
  },
  {
   "cell_type": "code",
   "execution_count": 3,
   "metadata": {
    "collapsed": false
   },
   "outputs": [],
   "source": [
    "# simple function to read in the user data file.\n",
    "# the argument parse_dates takes in a list of colums, which are to be parsed as date format\n",
    "user_data_raw_csv = pd.read_csv(\"/home/eyebell/local_bin/janacare/janCC/datasets/Habits-Data_upto-7th-May.csv\",\\\n",
    "                            parse_dates = [-3, -2, -1])"
   ]
  },
  {
   "cell_type": "code",
   "execution_count": 4,
   "metadata": {
    "collapsed": false
   },
   "outputs": [],
   "source": [
    "# import the pyexcel module\n",
    "#import pyexcel as pe\n",
    "#from pyexcel.ext import xls\n",
    "\n",
    "# load the file\n",
    "#records = pe.get_records(file_name=\"/home/eyebell/local_bin/janacare/datasets/Habits-Data_upto-7th-May.xls\")\n",
    "#len(records)\n",
    "#for record in records:\n",
    "    #print record"
   ]
  },
  {
   "cell_type": "code",
   "execution_count": 5,
   "metadata": {
    "collapsed": false
   },
   "outputs": [
    {
     "data": {
      "text/plain": [
       "(53239, 9)"
      ]
     },
     "execution_count": 5,
     "metadata": {},
     "output_type": "execute_result"
    }
   ],
   "source": [
    "# data metrics\n",
    "user_data_raw_csv.shape # Rows , colums\n"
   ]
  },
  {
   "cell_type": "code",
   "execution_count": 6,
   "metadata": {
    "collapsed": false
   },
   "outputs": [
    {
     "data": {
      "text/plain": [
       "user_id                   int64\n",
       "first_name               object\n",
       "last_name                object\n",
       "username                 object\n",
       "email                    object\n",
       "phone_number             object\n",
       "date_joined      datetime64[ns]\n",
       "first_login      datetime64[ns]\n",
       "last_activity    datetime64[ns]\n",
       "dtype: object"
      ]
     },
     "execution_count": 6,
     "metadata": {},
     "output_type": "execute_result"
    }
   ],
   "source": [
    "# data metrics\n",
    "user_data_raw_csv.dtypes # data type of colums"
   ]
  },
  {
   "cell_type": "code",
   "execution_count": 7,
   "metadata": {
    "collapsed": true
   },
   "outputs": [],
   "source": [
    "user_data_to_clean = user_data_raw_csv"
   ]
  },
  {
   "cell_type": "code",
   "execution_count": 8,
   "metadata": {
    "collapsed": false
   },
   "outputs": [],
   "source": [
    "# Some basic statistical information on the data\n",
    "#user_data_to_clean.describe()"
   ]
  },
  {
   "cell_type": "markdown",
   "metadata": {},
   "source": [
    "# Data Clean up"
   ]
  },
  {
   "cell_type": "markdown",
   "metadata": {},
   "source": [
    "In the last section of looking around, I saw that a lot of rows do not have any values or have garbage values(see first row of the table above).\n",
    "This can cause errors when computing anything using the values in these rows, hence a clean up is required."
   ]
  },
  {
   "cell_type": "markdown",
   "metadata": {},
   "source": [
    "If a the coulums *last_activity* and *first_login* are empty then drop the corresponding row !"
   ]
  },
  {
   "cell_type": "code",
   "execution_count": 9,
   "metadata": {
    "collapsed": false,
    "scrolled": true
   },
   "outputs": [
    {
     "name": "stdout",
     "output_type": "stream",
     "text": [
      "<class 'pandas.core.frame.DataFrame'>\n",
      "RangeIndex: 53239 entries, 0 to 53238\n",
      "Data columns (total 9 columns):\n",
      "user_id          53239 non-null int64\n",
      "first_name       53108 non-null object\n",
      "last_name        5360 non-null object\n",
      "username         53239 non-null object\n",
      "email            53089 non-null object\n",
      "phone_number     53094 non-null object\n",
      "date_joined      53239 non-null datetime64[ns]\n",
      "first_login      50773 non-null datetime64[ns]\n",
      "last_activity    44903 non-null datetime64[ns]\n",
      "dtypes: datetime64[ns](3), int64(1), object(5)\n",
      "memory usage: 3.7+ MB\n"
     ]
    }
   ],
   "source": [
    "# Lets check the health of the data set\n",
    "user_data_to_clean.info()"
   ]
  },
  {
   "cell_type": "markdown",
   "metadata": {},
   "source": [
    "As is visible from the last column (*age_on_platform*) data type, Pandas is not recognising it as date type format. \n",
    "This will make things difficult, so I delete this particular column and add a new one.\n",
    "Since the data in *age_on_platform* can be recreated by doing *age_on_platform* = *last_activity* - *first_login* "
   ]
  },
  {
   "cell_type": "markdown",
   "metadata": {},
   "source": [
    "But on eyeballing I noticed some, cells of column *first_login* have greater value than corresponding cell of *last_activity*. These cells need to be swapped, since its not possible to have *first_login* > *last_activity*\n",
    "Finally the columns *first_login*, *last_activity* have missing values, as evident from above table. Since this is time data, that in my opinion should not be imputed, we will drop/delete the columns."
   ]
  },
  {
   "cell_type": "code",
   "execution_count": 10,
   "metadata": {
    "collapsed": false
   },
   "outputs": [
    {
     "name": "stdout",
     "output_type": "stream",
     "text": [
      "last_activity_count=8336\tswapped_count=922\tfirst_login_count=170\temail_count=2\tuserid_count=0\n"
     ]
    }
   ],
   "source": [
    "# Run a loop through the data frame and check each row for this anamoly, if found drop,\n",
    "# this is being done ONLY for selected columns\n",
    "\n",
    "import datetime\n",
    "\n",
    "swapped_count = 0\n",
    "first_login_count = 0\n",
    "last_activity_count = 0\n",
    "email_count = 0\n",
    "userid_count = 0\n",
    "\n",
    "for index, row in user_data_to_clean.iterrows():        \n",
    "        if row.last_activity == pd.NaT or row.last_activity != row.last_activity:\n",
    "            last_activity_count = last_activity_count + 1\n",
    "            #print row.last_activity\n",
    "            user_data_to_clean.drop(index, inplace=True)\n",
    "\n",
    "        elif row.first_login > row.last_activity:\n",
    "            user_data_to_clean.drop(index, inplace=True)\n",
    "            swapped_count = swapped_count + 1\n",
    "\n",
    "        elif row.first_login != row.first_login or row.first_login == pd.NaT:\n",
    "            user_data_to_clean.drop(index, inplace=True)\n",
    "            first_login_count = first_login_count + 1\n",
    "\n",
    "        elif row.email != row.email: #or row.email == '' or row.email == ' ':\n",
    "            user_data_to_clean.drop(index, inplace=True)\n",
    "            email_count = email_count + 1\n",
    "\n",
    "        elif row.user_id != row.user_id:\n",
    "            user_data_to_clean.drop(index, inplace=True)\n",
    "            userid_count = userid_count + 1\n",
    "    \n",
    "#temp_date_var = row.first_login\n",
    "#user_data_to_clean.set_value(index, 'first_login', row.last_activity)\n",
    "#user_data_to_clean.set_value(index, 'last_activity', temp_date_var)\n",
    "#print \"to_swap: \\t\" + \"first_login\\t\" + row.first_login.isoformat() + \"\\tlast_activity\\t\" + row.last_activity.isoformat()\n",
    "\n",
    "print \"last_activity_count=%d\\tswapped_count=%d\\tfirst_login_count=%d\\temail_count=%d\\tuserid_count=%d\" \\\n",
    "% (last_activity_count, swapped_count, first_login_count, email_count, userid_count)"
   ]
  },
  {
   "cell_type": "code",
   "execution_count": 11,
   "metadata": {
    "collapsed": false
   },
   "outputs": [
    {
     "data": {
      "text/plain": [
       "(43809, 9)"
      ]
     },
     "execution_count": 11,
     "metadata": {},
     "output_type": "execute_result"
    }
   ],
   "source": [
    "user_data_to_clean.shape"
   ]
  },
  {
   "cell_type": "code",
   "execution_count": 12,
   "metadata": {
    "collapsed": false
   },
   "outputs": [],
   "source": [
    "# Create new column 'age_on_platform' which has the corresponding value in date type format\n",
    "user_data_to_clean[\"age_on_platform\"] = user_data_to_clean[\"last_activity\"] - user_data_to_clean[\"first_login\"]"
   ]
  },
  {
   "cell_type": "code",
   "execution_count": 13,
   "metadata": {
    "collapsed": false
   },
   "outputs": [
    {
     "name": "stdout",
     "output_type": "stream",
     "text": [
      "<class 'pandas.core.frame.DataFrame'>\n",
      "Int64Index: 43809 entries, 0 to 53238\n",
      "Data columns (total 10 columns):\n",
      "user_id            43809 non-null int64\n",
      "first_name         43806 non-null object\n",
      "last_name          2385 non-null object\n",
      "username           43809 non-null object\n",
      "email              43809 non-null object\n",
      "phone_number       43801 non-null object\n",
      "date_joined        43809 non-null datetime64[ns]\n",
      "first_login        43809 non-null datetime64[ns]\n",
      "last_activity      43809 non-null datetime64[ns]\n",
      "age_on_platform    43809 non-null timedelta64[ns]\n",
      "dtypes: datetime64[ns](3), int64(1), object(5), timedelta64[ns](1)\n",
      "memory usage: 3.7+ MB\n"
     ]
    }
   ],
   "source": [
    "user_data_to_clean.info()"
   ]
  },
  {
   "cell_type": "markdown",
   "metadata": {},
   "source": [
    "#### Validate if email i'd is correctly formatted"
   ]
  },
  {
   "cell_type": "code",
   "execution_count": 14,
   "metadata": {
    "collapsed": false
   },
   "outputs": [
    {
     "name": "stdout",
     "output_type": "stream",
     "text": [
      "Number of email-id invalid: 49 & number od email-id duplicated: 0\n"
     ]
    }
   ],
   "source": [
    "from validate_email import validate_email\n",
    "\n",
    "email_count_invalid = 0\n",
    "email_count_duplicate = 0\n",
    "for index, row in user_data_to_clean.iterrows():        \n",
    "        if not validate_email(row.email):\n",
    "            #print row.email\n",
    "            user_data_to_clean.drop(index, inplace=True)\n",
    "            email_count_invalid = email_count_invalid + 1\n",
    "        \n",
    "        #else:\n",
    "         #   flag = 0\n",
    "          #  for index_j, row_j in user_data_to_clean.iterrows():\n",
    "           #     if row.email == row_j.email:\n",
    "            #        flag = flag + 1\n",
    "             #       if flag > 1:\n",
    "              #          user_data_to_clean.drop(index_j, inplace=True)\n",
    "               #         email_count_duplicate = email_count_duplicate + 1\n",
    "print \"Number of email-id invalid: %d & number od email-id duplicated: %d\" % (email_count_invalid, email_count_duplicate)\n"
   ]
  },
  {
   "cell_type": "code",
   "execution_count": 15,
   "metadata": {
    "collapsed": false
   },
   "outputs": [
    {
     "name": "stdout",
     "output_type": "stream",
     "text": [
      "<class 'pandas.core.frame.DataFrame'>\n",
      "Int64Index: 43760 entries, 0 to 53238\n",
      "Data columns (total 10 columns):\n",
      "user_id            43760 non-null int64\n",
      "first_name         43757 non-null object\n",
      "last_name          2381 non-null object\n",
      "username           43760 non-null object\n",
      "email              43760 non-null object\n",
      "phone_number       43752 non-null object\n",
      "date_joined        43760 non-null datetime64[ns]\n",
      "first_login        43760 non-null datetime64[ns]\n",
      "last_activity      43760 non-null datetime64[ns]\n",
      "age_on_platform    43760 non-null timedelta64[ns]\n",
      "dtypes: datetime64[ns](3), int64(1), object(5), timedelta64[ns](1)\n",
      "memory usage: 3.7+ MB\n"
     ]
    }
   ],
   "source": [
    "# Check the result of last operation \n",
    "user_data_to_clean.info()"
   ]
  },
  {
   "cell_type": "markdown",
   "metadata": {},
   "source": [
    "### Remove duplicates"
   ]
  },
  {
   "cell_type": "code",
   "execution_count": 16,
   "metadata": {
    "collapsed": true
   },
   "outputs": [],
   "source": [
    "user_data_to_deDuplicate = user_data_to_clean"
   ]
  },
  {
   "cell_type": "code",
   "execution_count": 17,
   "metadata": {
    "collapsed": false
   },
   "outputs": [],
   "source": [
    "bool_list = user_data_to_deDuplicate.email.str.strip().duplicated()"
   ]
  },
  {
   "cell_type": "code",
   "execution_count": 18,
   "metadata": {
    "collapsed": false
   },
   "outputs": [
    {
     "data": {
      "text/plain": [
       "40495"
      ]
     },
     "execution_count": 18,
     "metadata": {},
     "output_type": "execute_result"
    }
   ],
   "source": [
    "user_data_deDuplicateD = user_data_to_deDuplicate.loc[~user_data_to_deDuplicate.email.str.strip().duplicated()]\n",
    "len(user_data_deDuplicateD)"
   ]
  },
  {
   "cell_type": "code",
   "execution_count": 19,
   "metadata": {
    "collapsed": false
   },
   "outputs": [
    {
     "name": "stdout",
     "output_type": "stream",
     "text": [
      "<class 'pandas.core.frame.DataFrame'>\n",
      "Int64Index: 40495 entries, 0 to 53238\n",
      "Data columns (total 10 columns):\n",
      "user_id            40495 non-null int64\n",
      "first_name         40492 non-null object\n",
      "last_name          2111 non-null object\n",
      "username           40495 non-null object\n",
      "email              40495 non-null object\n",
      "phone_number       40487 non-null object\n",
      "date_joined        40495 non-null datetime64[ns]\n",
      "first_login        40495 non-null datetime64[ns]\n",
      "last_activity      40495 non-null datetime64[ns]\n",
      "age_on_platform    40495 non-null timedelta64[ns]\n",
      "dtypes: datetime64[ns](3), int64(1), object(5), timedelta64[ns](1)\n",
      "memory usage: 3.4+ MB\n"
     ]
    }
   ],
   "source": [
    "user_data_deDuplicateD.info()"
   ]
  },
  {
   "cell_type": "code",
   "execution_count": 20,
   "metadata": {
    "collapsed": true
   },
   "outputs": [],
   "source": [
    "# Save the labeled data frame as excel file\n",
    "#from pandas import options\n",
    "#options.io.excel.xlsx.writer = 'xlsxwriter'\n",
    "#user_data_imputed_data_frame_labeled.to_excel('user_data_imputed_data_frame_labeled.xlsx')"
   ]
  },
  {
   "cell_type": "markdown",
   "metadata": {},
   "source": [
    "## Clustering"
   ]
  },
  {
   "cell_type": "code",
   "execution_count": 22,
   "metadata": {
    "collapsed": false
   },
   "outputs": [
    {
     "name": "stdout",
     "output_type": "stream",
     "text": [
      "<class 'pandas.core.frame.DataFrame'>\n",
      "Int64Index: 40495 entries, 0 to 53238\n",
      "Data columns (total 10 columns):\n",
      "user_id            40495 non-null int64\n",
      "first_name         40492 non-null object\n",
      "last_name          2111 non-null object\n",
      "username           40495 non-null object\n",
      "email              40495 non-null object\n",
      "phone_number       40487 non-null object\n",
      "date_joined        40495 non-null datetime64[ns]\n",
      "first_login        40495 non-null datetime64[ns]\n",
      "last_activity      40495 non-null datetime64[ns]\n",
      "age_on_platform    40495 non-null float64\n",
      "dtypes: datetime64[ns](3), float64(1), int64(1), object(5)\n",
      "memory usage: 3.4+ MB\n"
     ]
    },
    {
     "name": "stderr",
     "output_type": "stream",
     "text": [
      "/home/eyebell/local_bin/janacare/virtenv/lib/python2.7/site-packages/ipykernel/__main__.py:7: SettingWithCopyWarning: \n",
      "A value is trying to be set on a copy of a slice from a DataFrame.\n",
      "Try using .loc[row_indexer,col_indexer] = value instead\n",
      "\n",
      "See the caveats in the documentation: http://pandas.pydata.org/pandas-docs/stable/indexing.html#indexing-view-versus-copy\n"
     ]
    }
   ],
   "source": [
    "# Now its time to convert the timedelta64 column named age_on_platform\n",
    "def convert_timedelta64_to_sec(td64):\n",
    "    ts = (td64 / np.timedelta64(1, 's'))\n",
    "    return ts\n",
    "\n",
    "user_data_deDuplicateD_timedelta64_converted = user_data_deDuplicateD\n",
    "user_data_deDuplicateD_timedelta64_converted['age_on_platform'] = user_data_deDuplicateD['age_on_platform'].apply(convert_timedelta64_to_sec)\n",
    "user_data_deDuplicateD_timedelta64_converted.info()"
   ]
  },
  {
   "cell_type": "code",
   "execution_count": 23,
   "metadata": {
    "collapsed": false
   },
   "outputs": [
    {
     "name": "stdout",
     "output_type": "stream",
     "text": [
      "cluster 0: [  38197 4143730  517360 ...,    2289      54      47]\n",
      "cluster 1: [6266288 9073073 6285335 ..., 4486762 4481248 4474489]\n",
      "cluster 2: [15283532 14988965 16339309 ..., 14006642 14005695 15395985]\n",
      "cluster 3: [12502424 12107042 11566700 ..., 11025360 11049618 11040739]\n",
      "cluster 4: [18387283 20055340 18716983 19280886 17045793 19857212 18582420 18842229\n",
      " 17623438 18474149 17108644 17259660 17559162 19517508 18143863 17963317\n",
      " 18027359 17374584 17627091 19001915 17904667 19203081 17502675 17238295\n",
      " 20104292 18467013 19949164 19872128 19804225 19172163 19211833 17559637\n",
      " 17550659 19181999 17945584 18902248 18914912 20219498 18152935 17653806\n",
      " 18232963 20156356 18086829 19273839 19858015 19976156 17238710 18439031\n",
      " 17429702 19379839 17463095 17674939 19233394 17468185 18533815 17519073\n",
      " 17474127 18168702 17114674 18326188 18855253 20117983 18221674 19018163\n",
      " 18218046 17202872 19634267 18196860 18628472 17119122 17306679 17404051\n",
      " 17656264 19666124 19860425 19964425 19866615 18999574 19698110 17708903\n",
      " 19751026 17920521 18828787 17881200 18479910 17981583 20205011 19856359\n",
      " 18576385 19475165 18902543 19351632 17987568 18353011 18172858 19715006\n",
      " 19698113 19828364 17259198 18610086 18058086 17455562 19615479 20127292\n",
      " 20088548 18615490 20065887 20057630 19470797 19882607 19936548 20027021\n",
      " 19957858 19949584 17758350 20037501 17204285 17057664 18593128 19416006\n",
      " 19923952 19866946 19405368 19252292 20010485 19972621 19957116 18160258\n",
      " 19442258 19836521 19962653 19814555 19799230 19801539 19965063 19980011\n",
      " 19295401 19932321 19813601 19752531 19940374 18129065 17602276 19759330\n",
      " 19068754 18579858 19918774 19911042 19623786 19426592 19474661 19945264\n",
      " 17881213 18758939 19741284 18801123 18608618 19368191 19876438 19817414\n",
      " 19372201 19258645 19111376 18136402 19889475 19020872 19686268 18782051\n",
      " 17157225 17443171 19796975 18731075 19680121 18843740 19695152 18927748\n",
      " 19636091 17622763 17478512 19465770 18879934 19810764 19708735 19798264\n",
      " 19724012 19802012 19649187 19118290 17594019 19720377 19778136 19663056\n",
      " 19495189 19645777 19699855 19686136 17709236 19138454 19683927 19634238\n",
      " 19198559 19417217 19073447 19631840 18172712 19708437 18489045 18563103\n",
      " 17010500 19470055 17933772 19686992 17234014 19680911 19551443 19671327\n",
      " 18842190 19459746 19613558 17154172 17722109 19647391 19647700 19129682\n",
      " 19349520 19524507 18913404 19543986 19579117 19193282 19632143 19371095\n",
      " 19517063 19449324 19187993 19611597 19295720 19590581 17995856 19599581\n",
      " 18106674 19020103 19523835 18567446 19585386 19403905 19402443 17158591\n",
      " 17969201 19583557 18373713 19388426 18689524 19431090 18233066 18036832\n",
      " 18932138 19556301 17624743 17558370 17890757 19356475 19089774 19196229\n",
      " 19226453 19498747 19099343 18881445 19514881 18482794 19242354 19021221\n",
      " 19265997 19482764 19483901 19393810 19445455 17131225 17562952 19305396\n",
      " 19463594 19167545 19421528 18820590 19199438 19268652 17847692 19419215\n",
      " 19409156 18207656 18820039 19327931 18615710 18967285 17743303 19150869\n",
      " 19212793 19388603 19351115 19383697 19371177 18948649 19189647 19375541\n",
      " 19182465 17117273 19180294 19306495 19108384 19011377 19097290 18972143\n",
      " 19337093 18760030 19121088 19007121 19032874 19163401 17975307 19063425\n",
      " 18007672 17670344 19022269 18663609 18904053 18928928 17843645 17229130\n",
      " 17574353 18263829 18594623 18239120 17520146 18048758 18382954 17976941\n",
      " 17787804 18156379 18116594 18056845 18052322 17578096 17740337 17261379\n",
      " 17504227 17248964 17150344 17125468 17551571 17379908 17526624 17007827\n",
      " 17268099 17035188 17227495 17192313 17182410 17050031 17074806 17123597\n",
      " 17741712]\n",
      "cluster 5: [22248115 22089037 21152226 22701719 21161433 20971068 21092046 21613989\n",
      " 21650894 21612663 21079822 22975171 20854374 22860581 22194648 22688099\n",
      " 22818620 22057476 20538765 22092557 22284691 21883485 22239414 22259255\n",
      " 20884166 22276111 20808498 21038787 21597308 22362722 21613055 22602891\n",
      " 21603342 21197314 22868243 22918779 22519543 21998674 20779936 20397747\n",
      " 20751920 21425627 21396850 22210268 22737995 21163531 22551971 21747680\n",
      " 20951286 22349328 23065222 22913877 22690254 21928282 22476869 22457813\n",
      " 22418956 22272945 21091607 21212715 22209714 21569979 22061405 21763740\n",
      " 22064851 21030031 21913121 21904332 21577907 21683878 21848627 21701677\n",
      " 21847205 21846704 21801491 21629566 21438751 21636543 21367272 20871928\n",
      " 21111758 21021892 21407722 20672889 21016552 21335932 21127186 20409199\n",
      " 21135544 21075642 20612124 21025429 21062757 20903678 20944233 20825824\n",
      " 20895836 20855819 20835369 20811556 20752287 20845932 20835744 20716792\n",
      " 20648995 20540320 20383674 20606947 20563119 20513498]\n",
      "cluster 6: [24559491 25327288 23489158 23251397 24366627 24212484 25635878 23577539\n",
      " 23520326 23431828 24084795 24434407 24007600 25309358 24928998 25003013\n",
      " 25318585 24439076 24644206 24187478 24622675 25742120 23383959 24173447\n",
      " 24047374 25506710 23929811 25249204 23493146 23734023 24282671 25569144\n",
      " 24682591 25105542 25254941 24884166 25290135 23552407 23226381 24642140\n",
      " 25323428 24914730 24988763 25577324 25329647 25378793 25161852 24800278\n",
      " 24750473 25067286 24089853 24480896 24557175 24536116 24668083 24313562\n",
      " 24178010 24048640 23854721 23169475 25226056]\n",
      "cluster 7: [27851441 29894610 29391955 27837606 28979567 29161304 27925467 27972135\n",
      " 29037824 28433995 28945830 28950730 29667873 28980036 29821622 29923013\n",
      " 28533733 29820138 28526783 29796017 29544220 29081931 28710977 29576699\n",
      " 29518336 29461577 28465576 29271516 29371494 29285734 28309755 29055709\n",
      " 28924375 28284074 28252697 28248520 28327958 28268785 27987979 27903151]\n",
      "cluster 8: [26589797 26885513 27482217 25796292 26858784 27313548 27544366 27196812\n",
      " 27050995 25854179 26886638 25991139 27396614 26761789 26328851 27590059\n",
      " 27243411 27202006 26680783 26469602 27549704 27446929 26138670 27383812\n",
      " 26296683 26482628 27574497 27128371 26198790 26346986 25819455 26069763\n",
      " 26020821 25836135 25851981 25774268]\n",
      "cluster 9: [31480853 29984330 30770510 31449973 31861471 31525900 31723703 30090195\n",
      " 31612515 31532833 30721847 30550077 29967526 31262220 30338515 31375732\n",
      " 31279851 31901777 31601038 30944024 31582998 31537842 31452236 31122591\n",
      " 30921975 30247659 30110555]\n",
      "cluster 10: [34456111 32664458 33786609 33519742 32758917 34530847 32396146 33199784\n",
      " 33735968 33269291 32334823 33084981 34409756 34134557 34060398 32694978\n",
      " 32502959 33955785 32844985 33960165 33953540 33431558 33454646 33550995\n",
      " 33452849 33376877 33434331 33387394 32418972 33262962 33265741 33269779\n",
      " 32283783]\n",
      "cluster 11: [39660726 39660936 39686756 38677677 39044817 39354626 39876585 38878708\n",
      " 39256981 40085121 39254688 38968229]\n",
      "cluster 12: [43044386 42177342 42689891 42790614 42759172 43266619 42428350 42145263\n",
      " 42420055]\n",
      "cluster 13: [35034898 36726946 35628709 34769011 36186275 35595850 36250086 34933279\n",
      " 36723736 35507567 36811569 35101464 35463684]\n",
      "cluster 14: [40627420 41497231 41368383 40366571 41498252 40345911 41402713 40979057]\n",
      "cluster 15: [38290688 37601993 37536724 37648614 38470435 37159209 36879143]\n",
      "cluster 16: [46538256 45229619 43612914 45385829 45845424 44550753 45012499 45013922\n",
      " 43932526]\n",
      "cluster 17: [52248013 51805836 51495301 52095202 51470888 51828417]\n",
      "cluster 18: [46953432 48691236 48504027 48208034 50057582 49316593 48647805]\n",
      "cluster 19: [69652431 69463915 70055435 68942485 70680243]\n",
      "cluster 20: [53984715 54529474 53300409 54488318]\n",
      "cluster 21: [65347574 64787748 63979570 64312195]\n",
      "cluster 22: [57822661 57648610 57804481]\n",
      "cluster 23: [93210812]\n",
      "cluster 24: [103234971]\n",
      "cluster 25: [86043028]\n",
      "cluster 26: [80282096]\n",
      "cluster 27: [67154483]\n",
      "cluster 28: [60530608]\n"
     ]
    }
   ],
   "source": [
    "# Clustering using Mean shift\n",
    "\n",
    "from sklearn.cluster import MeanShift, estimate_bandwidth\n",
    "\n",
    "#x = [1,1,5,6,1,5,10,22,23,23,50,51,51,52,100,112,130,500,512,600,12000,12230]\n",
    "x = pd.Series(user_data_deDuplicateD_timedelta64_converted['age_on_platform'])\n",
    "\n",
    "X = np.array(zip(x,np.zeros(len(x))), dtype=np.int)\n",
    "bandwidth = estimate_bandwidth(X, quantile=0.1)\n",
    "ms = MeanShift(bandwidth=bandwidth, bin_seeding=True)\n",
    "ms.fit(X)\n",
    "labels = ms.labels_\n",
    "cluster_centers = ms.cluster_centers_\n",
    "\n",
    "labels_unique = np.unique(labels)\n",
    "n_clusters_ = len(labels_unique)\n",
    "\n",
    "for k in range(n_clusters_):\n",
    "    my_members = labels == k\n",
    "    print \"cluster {0}: {1}\".format(k, X[my_members, 0])"
   ]
  },
  {
   "cell_type": "code",
   "execution_count": null,
   "metadata": {
    "collapsed": true
   },
   "outputs": [],
   "source": []
  }
 ],
 "metadata": {
  "kernelspec": {
   "display_name": "Python 2",
   "language": "python",
   "name": "python2"
  },
  "language_info": {
   "codemirror_mode": {
    "name": "ipython",
    "version": 2
   },
   "file_extension": ".py",
   "mimetype": "text/x-python",
   "name": "python",
   "nbconvert_exporter": "python",
   "pygments_lexer": "ipython2",
   "version": "2.7.11"
  }
 },
 "nbformat": 4,
 "nbformat_minor": 0
}
