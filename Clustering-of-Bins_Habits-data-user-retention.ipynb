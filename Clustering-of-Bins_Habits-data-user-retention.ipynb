{
 "cells": [
  {
   "cell_type": "code",
   "execution_count": null,
   "metadata": {
    "collapsed": true
   },
   "outputs": [],
   "source": []
  },
  {
   "cell_type": "code",
   "execution_count": null,
   "metadata": {
    "collapsed": true
   },
   "outputs": [],
   "source": [
    "# Import the required modules\n",
    "import pandas as pd\n",
    "import numpy as np\n",
    "import scipy as sp"
   ]
  },
  {
   "cell_type": "code",
   "execution_count": null,
   "metadata": {
    "collapsed": true
   },
   "outputs": [],
   "source": [
    "# simple function to read in the user data file.\n",
    "# the argument parse_dates takes in a list of colums, which are to be parsed as date format\n",
    "user_data_raw_0day = pd.read_csv\\\n",
    "(\"/home/eyebell/local_bin/janacare/janCC/datasets/user_retention_email-campaign/user_data_binned_post30thApril_0day.csv\",\\\n",
    " parse_dates = [-3, -2, -1])"
   ]
  },
  {
   "cell_type": "code",
   "execution_count": null,
   "metadata": {
    "collapsed": true
   },
   "outputs": [],
   "source": [
    "user_data_raw_1st_week = pd.DataFrame()\n",
    "filelist = ['user_data_binned_post30thApril_1st-day.csv', 'user_data_binned_post30thApril_1st-week.csv']\n",
    "dflist = []\n",
    "\n",
    "for filename in filelist:\n",
    "    df = pd.read_csv(filename, index_col=None, header=0)\n",
    "    dflist.append(df)\n",
    "\n",
    "user_data_raw_1st-week = pd.concat(dflist)"
   ]
  }
 ],
 "metadata": {
  "kernelspec": {
   "display_name": "Python 2",
   "language": "python",
   "name": "python2"
  },
  "language_info": {
   "codemirror_mode": {
    "name": "ipython",
    "version": 2
   },
   "file_extension": ".py",
   "mimetype": "text/x-python",
   "name": "python",
   "nbconvert_exporter": "python",
   "pygments_lexer": "ipython2",
   "version": "2.7.11"
  }
 },
 "nbformat": 4,
 "nbformat_minor": 0
}
